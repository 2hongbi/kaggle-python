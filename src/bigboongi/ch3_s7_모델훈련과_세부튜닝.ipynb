{
 "cells": [
  {
   "cell_type": "markdown",
   "source": [
    "# 7. 머신러닝 프로세스\n",
    "\n",
    "모델훈련과 세부튜닝"
   ],
   "metadata": {
    "collapsed": false
   }
  },
  {
   "cell_type": "code",
   "execution_count": 1,
   "metadata": {
    "collapsed": true
   },
   "outputs": [],
   "source": [
    "import warnings\n",
    "warnings.filterwarnings('ignore')"
   ]
  },
  {
   "cell_type": "code",
   "execution_count": 2,
   "outputs": [],
   "source": [
    "import pandas as pd\n",
    "\n",
    "data = pd.read_csv('./../../data/bigboongi/Fvote.csv', encoding='utf-8')"
   ],
   "metadata": {
    "collapsed": false,
    "pycharm": {
     "name": "#%%\n"
    }
   }
  },
  {
   "cell_type": "code",
   "execution_count": 3,
   "outputs": [],
   "source": [
    "X = data[data.columns[1:13]]\n",
    "y = data[['vote']]"
   ],
   "metadata": {
    "collapsed": false,
    "pycharm": {
     "name": "#%%\n"
    }
   }
  },
  {
   "cell_type": "code",
   "execution_count": 4,
   "outputs": [],
   "source": [
    "from sklearn.model_selection import train_test_split\n",
    "\n",
    "X_train, X_test, y_train, y_test = train_test_split(X, y, stratify=y, random_state=42)"
   ],
   "metadata": {
    "collapsed": false,
    "pycharm": {
     "name": "#%%\n"
    }
   }
  },
  {
   "cell_type": "markdown",
   "source": [
    "## Grid Search(그리드 탐색)\n",
    "\n",
    "그리드 탐색은 분석자가 하이퍼파라미터 특정값을 지정하고, 각각 모델에 적용해 모델 적합도를 비교하는 방법"
   ],
   "metadata": {
    "collapsed": false
   }
  },
  {
   "cell_type": "code",
   "execution_count": 5,
   "outputs": [],
   "source": [
    "from sklearn.model_selection import GridSearchCV\n",
    "param_grid = {'C': [0.001, 0.01, 0.1, 1, 10, 100]}"
   ],
   "metadata": {
    "collapsed": false,
    "pycharm": {
     "name": "#%%\n"
    }
   }
  },
  {
   "cell_type": "code",
   "execution_count": 6,
   "outputs": [],
   "source": [
    "from sklearn.linear_model import LogisticRegression"
   ],
   "metadata": {
    "collapsed": false,
    "pycharm": {
     "name": "#%%\n"
    }
   }
  },
  {
   "cell_type": "code",
   "execution_count": 7,
   "outputs": [
    {
     "data": {
      "text/plain": "GridSearchCV(cv=5, estimator=LogisticRegression(),\n             param_grid={'C': [0.001, 0.01, 0.1, 1, 10, 100]},\n             return_train_score=True)",
      "text/html": "<style>#sk-container-id-1 {color: black;background-color: white;}#sk-container-id-1 pre{padding: 0;}#sk-container-id-1 div.sk-toggleable {background-color: white;}#sk-container-id-1 label.sk-toggleable__label {cursor: pointer;display: block;width: 100%;margin-bottom: 0;padding: 0.3em;box-sizing: border-box;text-align: center;}#sk-container-id-1 label.sk-toggleable__label-arrow:before {content: \"▸\";float: left;margin-right: 0.25em;color: #696969;}#sk-container-id-1 label.sk-toggleable__label-arrow:hover:before {color: black;}#sk-container-id-1 div.sk-estimator:hover label.sk-toggleable__label-arrow:before {color: black;}#sk-container-id-1 div.sk-toggleable__content {max-height: 0;max-width: 0;overflow: hidden;text-align: left;background-color: #f0f8ff;}#sk-container-id-1 div.sk-toggleable__content pre {margin: 0.2em;color: black;border-radius: 0.25em;background-color: #f0f8ff;}#sk-container-id-1 input.sk-toggleable__control:checked~div.sk-toggleable__content {max-height: 200px;max-width: 100%;overflow: auto;}#sk-container-id-1 input.sk-toggleable__control:checked~label.sk-toggleable__label-arrow:before {content: \"▾\";}#sk-container-id-1 div.sk-estimator input.sk-toggleable__control:checked~label.sk-toggleable__label {background-color: #d4ebff;}#sk-container-id-1 div.sk-label input.sk-toggleable__control:checked~label.sk-toggleable__label {background-color: #d4ebff;}#sk-container-id-1 input.sk-hidden--visually {border: 0;clip: rect(1px 1px 1px 1px);clip: rect(1px, 1px, 1px, 1px);height: 1px;margin: -1px;overflow: hidden;padding: 0;position: absolute;width: 1px;}#sk-container-id-1 div.sk-estimator {font-family: monospace;background-color: #f0f8ff;border: 1px dotted black;border-radius: 0.25em;box-sizing: border-box;margin-bottom: 0.5em;}#sk-container-id-1 div.sk-estimator:hover {background-color: #d4ebff;}#sk-container-id-1 div.sk-parallel-item::after {content: \"\";width: 100%;border-bottom: 1px solid gray;flex-grow: 1;}#sk-container-id-1 div.sk-label:hover label.sk-toggleable__label {background-color: #d4ebff;}#sk-container-id-1 div.sk-serial::before {content: \"\";position: absolute;border-left: 1px solid gray;box-sizing: border-box;top: 0;bottom: 0;left: 50%;z-index: 0;}#sk-container-id-1 div.sk-serial {display: flex;flex-direction: column;align-items: center;background-color: white;padding-right: 0.2em;padding-left: 0.2em;position: relative;}#sk-container-id-1 div.sk-item {position: relative;z-index: 1;}#sk-container-id-1 div.sk-parallel {display: flex;align-items: stretch;justify-content: center;background-color: white;position: relative;}#sk-container-id-1 div.sk-item::before, #sk-container-id-1 div.sk-parallel-item::before {content: \"\";position: absolute;border-left: 1px solid gray;box-sizing: border-box;top: 0;bottom: 0;left: 50%;z-index: -1;}#sk-container-id-1 div.sk-parallel-item {display: flex;flex-direction: column;z-index: 1;position: relative;background-color: white;}#sk-container-id-1 div.sk-parallel-item:first-child::after {align-self: flex-end;width: 50%;}#sk-container-id-1 div.sk-parallel-item:last-child::after {align-self: flex-start;width: 50%;}#sk-container-id-1 div.sk-parallel-item:only-child::after {width: 0;}#sk-container-id-1 div.sk-dashed-wrapped {border: 1px dashed gray;margin: 0 0.4em 0.5em 0.4em;box-sizing: border-box;padding-bottom: 0.4em;background-color: white;}#sk-container-id-1 div.sk-label label {font-family: monospace;font-weight: bold;display: inline-block;line-height: 1.2em;}#sk-container-id-1 div.sk-label-container {text-align: center;}#sk-container-id-1 div.sk-container {/* jupyter's `normalize.less` sets `[hidden] { display: none; }` but bootstrap.min.css set `[hidden] { display: none !important; }` so we also need the `!important` here to be able to override the default hidden behavior on the sphinx rendered scikit-learn.org. See: https://github.com/scikit-learn/scikit-learn/issues/21755 */display: inline-block !important;position: relative;}#sk-container-id-1 div.sk-text-repr-fallback {display: none;}</style><div id=\"sk-container-id-1\" class=\"sk-top-container\"><div class=\"sk-text-repr-fallback\"><pre>GridSearchCV(cv=5, estimator=LogisticRegression(),\n             param_grid={&#x27;C&#x27;: [0.001, 0.01, 0.1, 1, 10, 100]},\n             return_train_score=True)</pre><b>In a Jupyter environment, please rerun this cell to show the HTML representation or trust the notebook. <br />On GitHub, the HTML representation is unable to render, please try loading this page with nbviewer.org.</b></div><div class=\"sk-container\" hidden><div class=\"sk-item sk-dashed-wrapped\"><div class=\"sk-label-container\"><div class=\"sk-label sk-toggleable\"><input class=\"sk-toggleable__control sk-hidden--visually\" id=\"sk-estimator-id-1\" type=\"checkbox\" ><label for=\"sk-estimator-id-1\" class=\"sk-toggleable__label sk-toggleable__label-arrow\">GridSearchCV</label><div class=\"sk-toggleable__content\"><pre>GridSearchCV(cv=5, estimator=LogisticRegression(),\n             param_grid={&#x27;C&#x27;: [0.001, 0.01, 0.1, 1, 10, 100]},\n             return_train_score=True)</pre></div></div></div><div class=\"sk-parallel\"><div class=\"sk-parallel-item\"><div class=\"sk-item\"><div class=\"sk-label-container\"><div class=\"sk-label sk-toggleable\"><input class=\"sk-toggleable__control sk-hidden--visually\" id=\"sk-estimator-id-2\" type=\"checkbox\" ><label for=\"sk-estimator-id-2\" class=\"sk-toggleable__label sk-toggleable__label-arrow\">estimator: LogisticRegression</label><div class=\"sk-toggleable__content\"><pre>LogisticRegression()</pre></div></div></div><div class=\"sk-serial\"><div class=\"sk-item\"><div class=\"sk-estimator sk-toggleable\"><input class=\"sk-toggleable__control sk-hidden--visually\" id=\"sk-estimator-id-3\" type=\"checkbox\" ><label for=\"sk-estimator-id-3\" class=\"sk-toggleable__label sk-toggleable__label-arrow\">LogisticRegression</label><div class=\"sk-toggleable__content\"><pre>LogisticRegression()</pre></div></div></div></div></div></div></div></div></div></div>"
     },
     "execution_count": 7,
     "metadata": {},
     "output_type": "execute_result"
    }
   ],
   "source": [
    "grid_search = GridSearchCV(LogisticRegression(), param_grid, cv=5, return_train_score=True)\n",
    "grid_search.fit(X_train, y_train)"
   ],
   "metadata": {
    "collapsed": false,
    "pycharm": {
     "name": "#%%\n"
    }
   }
  },
  {
   "cell_type": "markdown",
   "source": [
    "정확도가 가장 높은 하이퍼파라미터(C)가 무엇인지는 'grid_search.best_params_'에 있음\n",
    "이 때의 정확도는 'grid_search.best_score_'에 있음"
   ],
   "metadata": {
    "collapsed": false
   }
  },
  {
   "cell_type": "code",
   "execution_count": 9,
   "outputs": [
    {
     "name": "stdout",
     "output_type": "stream",
     "text": [
      "Best Parameter: {'C': 10}\n",
      "Best Cross-validity Score: 0.727\n"
     ]
    }
   ],
   "source": [
    "print('Best Parameter: {}'.format(grid_search.best_params_))\n",
    "print('Best Cross-validity Score: {:.3f}'.format(grid_search.best_score_))"
   ],
   "metadata": {
    "collapsed": false,
    "pycharm": {
     "name": "#%%\n"
    }
   }
  },
  {
   "cell_type": "code",
   "execution_count": 11,
   "outputs": [
    {
     "name": "stdout",
     "output_type": "stream",
     "text": [
      "Test set Score: 0.679\n"
     ]
    }
   ],
   "source": [
    "print('Test set Score: {:.3f}'.format(grid_search.score(X_test, y_test)))"
   ],
   "metadata": {
    "collapsed": false,
    "pycharm": {
     "name": "#%%\n"
    }
   }
  },
  {
   "cell_type": "code",
   "execution_count": 12,
   "outputs": [
    {
     "data": {
      "text/plain": "   mean_fit_time  std_fit_time  mean_score_time  std_score_time param_C  \\\n0       0.002570      0.000980         0.000835        0.000155   0.001   \n1       0.001857      0.000306         0.000703        0.000184    0.01   \n2       0.002331      0.000063         0.000554        0.000047     0.1   \n3       0.003027      0.000162         0.000522        0.000055       1   \n4       0.003676      0.000315         0.000443        0.000015      10   \n5       0.004318      0.000389         0.000496        0.000037     100   \n\n         params  split0_test_score  split1_test_score  split2_test_score  \\\n0  {'C': 0.001}            0.68750            0.71875            0.71875   \n1   {'C': 0.01}            0.68750            0.71875            0.71875   \n2    {'C': 0.1}            0.71875            0.71875            0.71875   \n3      {'C': 1}            0.71875            0.68750            0.78125   \n4     {'C': 10}            0.75000            0.68750            0.81250   \n5    {'C': 100}            0.75000            0.68750            0.81250   \n\n   split3_test_score  ...  mean_test_score  std_test_score  rank_test_score  \\\n0           0.709677  ...         0.708871        0.011430                5   \n1           0.709677  ...         0.708871        0.011430                5   \n2           0.677419  ...         0.721573        0.030797                3   \n3           0.580645  ...         0.714919        0.079466                4   \n4           0.580645  ...         0.727419        0.086175                1   \n5           0.580645  ...         0.727419        0.086175                1   \n\n   split0_train_score  split1_train_score  split2_train_score  \\\n0            0.714286            0.706349            0.706349   \n1            0.714286            0.706349            0.706349   \n2            0.738095            0.746032            0.738095   \n3            0.738095            0.793651            0.730159   \n4            0.746032            0.769841            0.730159   \n5            0.746032            0.769841            0.730159   \n\n   split3_train_score  split4_train_score  mean_train_score  std_train_score  \n0            0.708661            0.708661          0.708861         0.002903  \n1            0.708661            0.708661          0.708861         0.002903  \n2            0.740157            0.716535          0.735783         0.010053  \n3            0.763780            0.724409          0.750019         0.025634  \n4            0.779528            0.724409          0.749994         0.021586  \n5            0.771654            0.724409          0.748419         0.019567  \n\n[6 rows x 21 columns]",
      "text/html": "<div>\n<style scoped>\n    .dataframe tbody tr th:only-of-type {\n        vertical-align: middle;\n    }\n\n    .dataframe tbody tr th {\n        vertical-align: top;\n    }\n\n    .dataframe thead th {\n        text-align: right;\n    }\n</style>\n<table border=\"1\" class=\"dataframe\">\n  <thead>\n    <tr style=\"text-align: right;\">\n      <th></th>\n      <th>mean_fit_time</th>\n      <th>std_fit_time</th>\n      <th>mean_score_time</th>\n      <th>std_score_time</th>\n      <th>param_C</th>\n      <th>params</th>\n      <th>split0_test_score</th>\n      <th>split1_test_score</th>\n      <th>split2_test_score</th>\n      <th>split3_test_score</th>\n      <th>...</th>\n      <th>mean_test_score</th>\n      <th>std_test_score</th>\n      <th>rank_test_score</th>\n      <th>split0_train_score</th>\n      <th>split1_train_score</th>\n      <th>split2_train_score</th>\n      <th>split3_train_score</th>\n      <th>split4_train_score</th>\n      <th>mean_train_score</th>\n      <th>std_train_score</th>\n    </tr>\n  </thead>\n  <tbody>\n    <tr>\n      <th>0</th>\n      <td>0.002570</td>\n      <td>0.000980</td>\n      <td>0.000835</td>\n      <td>0.000155</td>\n      <td>0.001</td>\n      <td>{'C': 0.001}</td>\n      <td>0.68750</td>\n      <td>0.71875</td>\n      <td>0.71875</td>\n      <td>0.709677</td>\n      <td>...</td>\n      <td>0.708871</td>\n      <td>0.011430</td>\n      <td>5</td>\n      <td>0.714286</td>\n      <td>0.706349</td>\n      <td>0.706349</td>\n      <td>0.708661</td>\n      <td>0.708661</td>\n      <td>0.708861</td>\n      <td>0.002903</td>\n    </tr>\n    <tr>\n      <th>1</th>\n      <td>0.001857</td>\n      <td>0.000306</td>\n      <td>0.000703</td>\n      <td>0.000184</td>\n      <td>0.01</td>\n      <td>{'C': 0.01}</td>\n      <td>0.68750</td>\n      <td>0.71875</td>\n      <td>0.71875</td>\n      <td>0.709677</td>\n      <td>...</td>\n      <td>0.708871</td>\n      <td>0.011430</td>\n      <td>5</td>\n      <td>0.714286</td>\n      <td>0.706349</td>\n      <td>0.706349</td>\n      <td>0.708661</td>\n      <td>0.708661</td>\n      <td>0.708861</td>\n      <td>0.002903</td>\n    </tr>\n    <tr>\n      <th>2</th>\n      <td>0.002331</td>\n      <td>0.000063</td>\n      <td>0.000554</td>\n      <td>0.000047</td>\n      <td>0.1</td>\n      <td>{'C': 0.1}</td>\n      <td>0.71875</td>\n      <td>0.71875</td>\n      <td>0.71875</td>\n      <td>0.677419</td>\n      <td>...</td>\n      <td>0.721573</td>\n      <td>0.030797</td>\n      <td>3</td>\n      <td>0.738095</td>\n      <td>0.746032</td>\n      <td>0.738095</td>\n      <td>0.740157</td>\n      <td>0.716535</td>\n      <td>0.735783</td>\n      <td>0.010053</td>\n    </tr>\n    <tr>\n      <th>3</th>\n      <td>0.003027</td>\n      <td>0.000162</td>\n      <td>0.000522</td>\n      <td>0.000055</td>\n      <td>1</td>\n      <td>{'C': 1}</td>\n      <td>0.71875</td>\n      <td>0.68750</td>\n      <td>0.78125</td>\n      <td>0.580645</td>\n      <td>...</td>\n      <td>0.714919</td>\n      <td>0.079466</td>\n      <td>4</td>\n      <td>0.738095</td>\n      <td>0.793651</td>\n      <td>0.730159</td>\n      <td>0.763780</td>\n      <td>0.724409</td>\n      <td>0.750019</td>\n      <td>0.025634</td>\n    </tr>\n    <tr>\n      <th>4</th>\n      <td>0.003676</td>\n      <td>0.000315</td>\n      <td>0.000443</td>\n      <td>0.000015</td>\n      <td>10</td>\n      <td>{'C': 10}</td>\n      <td>0.75000</td>\n      <td>0.68750</td>\n      <td>0.81250</td>\n      <td>0.580645</td>\n      <td>...</td>\n      <td>0.727419</td>\n      <td>0.086175</td>\n      <td>1</td>\n      <td>0.746032</td>\n      <td>0.769841</td>\n      <td>0.730159</td>\n      <td>0.779528</td>\n      <td>0.724409</td>\n      <td>0.749994</td>\n      <td>0.021586</td>\n    </tr>\n    <tr>\n      <th>5</th>\n      <td>0.004318</td>\n      <td>0.000389</td>\n      <td>0.000496</td>\n      <td>0.000037</td>\n      <td>100</td>\n      <td>{'C': 100}</td>\n      <td>0.75000</td>\n      <td>0.68750</td>\n      <td>0.81250</td>\n      <td>0.580645</td>\n      <td>...</td>\n      <td>0.727419</td>\n      <td>0.086175</td>\n      <td>1</td>\n      <td>0.746032</td>\n      <td>0.769841</td>\n      <td>0.730159</td>\n      <td>0.771654</td>\n      <td>0.724409</td>\n      <td>0.748419</td>\n      <td>0.019567</td>\n    </tr>\n  </tbody>\n</table>\n<p>6 rows × 21 columns</p>\n</div>"
     },
     "execution_count": 12,
     "metadata": {},
     "output_type": "execute_result"
    }
   ],
   "source": [
    "result_grid = pd.DataFrame(grid_search.cv_results_)\n",
    "result_grid"
   ],
   "metadata": {
    "collapsed": false,
    "pycharm": {
     "name": "#%%\n"
    }
   }
  },
  {
   "cell_type": "code",
   "execution_count": 13,
   "outputs": [
    {
     "data": {
      "text/plain": "<matplotlib.legend.Legend at 0x146707ac0>"
     },
     "execution_count": 13,
     "metadata": {},
     "output_type": "execute_result"
    },
    {
     "data": {
      "text/plain": "<Figure size 432x288 with 1 Axes>",
      "image/png": "[encoded data removed]"
     },
     "metadata": {
      "needs_background": "light"
     },
     "output_type": "display_data"
    }
   ],
   "source": [
    "import matplotlib.pyplot as plt\n",
    "\n",
    "plt.plot(result_grid['param_C'], result_grid['mean_train_score'], label='Train')\n",
    "plt.plot(result_grid['param_C'], result_grid['mean_test_score'], label='Test')\n",
    "plt.legend()"
   ],
   "metadata": {
    "collapsed": false,
    "pycharm": {
     "name": "#%%\n"
    }
   }
  },
  {
   "cell_type": "markdown",
   "source": [
    "## 3. Random Search\n",
    "\n",
    "랜덤 탐색은 범위를 정하고 그 안에서 무작위로 C값을 찾는 것이다."
   ],
   "metadata": {
    "collapsed": false
   }
  },
  {
   "cell_type": "code",
   "execution_count": 14,
   "outputs": [],
   "source": [
    "from sklearn.model_selection import RandomizedSearchCV\n",
    "from scipy.stats import randint\n",
    "\n",
    "param_distribs = {'C': randint(low=0.001, high=100)}"
   ],
   "metadata": {
    "collapsed": false,
    "pycharm": {
     "name": "#%%\n"
    }
   }
  },
  {
   "cell_type": "code",
   "execution_count": 15,
   "outputs": [],
   "source": [
    "from sklearn.linear_model import LogisticRegression"
   ],
   "metadata": {
    "collapsed": false,
    "pycharm": {
     "name": "#%%\n"
    }
   }
  },
  {
   "cell_type": "code",
   "execution_count": 18,
   "outputs": [
    {
     "data": {
      "text/plain": "RandomizedSearchCV(cv=5, estimator=LogisticRegression(),\n                   param_distributions={'C': <scipy.stats._distn_infrastructure.rv_frozen object at 0x14676c820>},\n                   return_train_score=True)",
      "text/html": "<style>#sk-container-id-2 {color: black;background-color: white;}#sk-container-id-2 pre{padding: 0;}#sk-container-id-2 div.sk-toggleable {background-color: white;}#sk-container-id-2 label.sk-toggleable__label {cursor: pointer;display: block;width: 100%;margin-bottom: 0;padding: 0.3em;box-sizing: border-box;text-align: center;}#sk-container-id-2 label.sk-toggleable__label-arrow:before {content: \"▸\";float: left;margin-right: 0.25em;color: #696969;}#sk-container-id-2 label.sk-toggleable__label-arrow:hover:before {color: black;}#sk-container-id-2 div.sk-estimator:hover label.sk-toggleable__label-arrow:before {color: black;}#sk-container-id-2 div.sk-toggleable__content {max-height: 0;max-width: 0;overflow: hidden;text-align: left;background-color: #f0f8ff;}#sk-container-id-2 div.sk-toggleable__content pre {margin: 0.2em;color: black;border-radius: 0.25em;background-color: #f0f8ff;}#sk-container-id-2 input.sk-toggleable__control:checked~div.sk-toggleable__content {max-height: 200px;max-width: 100%;overflow: auto;}#sk-container-id-2 input.sk-toggleable__control:checked~label.sk-toggleable__label-arrow:before {content: \"▾\";}#sk-container-id-2 div.sk-estimator input.sk-toggleable__control:checked~label.sk-toggleable__label {background-color: #d4ebff;}#sk-container-id-2 div.sk-label input.sk-toggleable__control:checked~label.sk-toggleable__label {background-color: #d4ebff;}#sk-container-id-2 input.sk-hidden--visually {border: 0;clip: rect(1px 1px 1px 1px);clip: rect(1px, 1px, 1px, 1px);height: 1px;margin: -1px;overflow: hidden;padding: 0;position: absolute;width: 1px;}#sk-container-id-2 div.sk-estimator {font-family: monospace;background-color: #f0f8ff;border: 1px dotted black;border-radius: 0.25em;box-sizing: border-box;margin-bottom: 0.5em;}#sk-container-id-2 div.sk-estimator:hover {background-color: #d4ebff;}#sk-container-id-2 div.sk-parallel-item::after {content: \"\";width: 100%;border-bottom: 1px solid gray;flex-grow: 1;}#sk-container-id-2 div.sk-label:hover label.sk-toggleable__label {background-color: #d4ebff;}#sk-container-id-2 div.sk-serial::before {content: \"\";position: absolute;border-left: 1px solid gray;box-sizing: border-box;top: 0;bottom: 0;left: 50%;z-index: 0;}#sk-container-id-2 div.sk-serial {display: flex;flex-direction: column;align-items: center;background-color: white;padding-right: 0.2em;padding-left: 0.2em;position: relative;}#sk-container-id-2 div.sk-item {position: relative;z-index: 1;}#sk-container-id-2 div.sk-parallel {display: flex;align-items: stretch;justify-content: center;background-color: white;position: relative;}#sk-container-id-2 div.sk-item::before, #sk-container-id-2 div.sk-parallel-item::before {content: \"\";position: absolute;border-left: 1px solid gray;box-sizing: border-box;top: 0;bottom: 0;left: 50%;z-index: -1;}#sk-container-id-2 div.sk-parallel-item {display: flex;flex-direction: column;z-index: 1;position: relative;background-color: white;}#sk-container-id-2 div.sk-parallel-item:first-child::after {align-self: flex-end;width: 50%;}#sk-container-id-2 div.sk-parallel-item:last-child::after {align-self: flex-start;width: 50%;}#sk-container-id-2 div.sk-parallel-item:only-child::after {width: 0;}#sk-container-id-2 div.sk-dashed-wrapped {border: 1px dashed gray;margin: 0 0.4em 0.5em 0.4em;box-sizing: border-box;padding-bottom: 0.4em;background-color: white;}#sk-container-id-2 div.sk-label label {font-family: monospace;font-weight: bold;display: inline-block;line-height: 1.2em;}#sk-container-id-2 div.sk-label-container {text-align: center;}#sk-container-id-2 div.sk-container {/* jupyter's `normalize.less` sets `[hidden] { display: none; }` but bootstrap.min.css set `[hidden] { display: none !important; }` so we also need the `!important` here to be able to override the default hidden behavior on the sphinx rendered scikit-learn.org. See: https://github.com/scikit-learn/scikit-learn/issues/21755 */display: inline-block !important;position: relative;}#sk-container-id-2 div.sk-text-repr-fallback {display: none;}</style><div id=\"sk-container-id-2\" class=\"sk-top-container\"><div class=\"sk-text-repr-fallback\"><pre>RandomizedSearchCV(cv=5, estimator=LogisticRegression(),\n                   param_distributions={&#x27;C&#x27;: &lt;scipy.stats._distn_infrastructure.rv_frozen object at 0x14676c820&gt;},\n                   return_train_score=True)</pre><b>In a Jupyter environment, please rerun this cell to show the HTML representation or trust the notebook. <br />On GitHub, the HTML representation is unable to render, please try loading this page with nbviewer.org.</b></div><div class=\"sk-container\" hidden><div class=\"sk-item sk-dashed-wrapped\"><div class=\"sk-label-container\"><div class=\"sk-label sk-toggleable\"><input class=\"sk-toggleable__control sk-hidden--visually\" id=\"sk-estimator-id-4\" type=\"checkbox\" ><label for=\"sk-estimator-id-4\" class=\"sk-toggleable__label sk-toggleable__label-arrow\">RandomizedSearchCV</label><div class=\"sk-toggleable__content\"><pre>RandomizedSearchCV(cv=5, estimator=LogisticRegression(),\n                   param_distributions={&#x27;C&#x27;: &lt;scipy.stats._distn_infrastructure.rv_frozen object at 0x14676c820&gt;},\n                   return_train_score=True)</pre></div></div></div><div class=\"sk-parallel\"><div class=\"sk-parallel-item\"><div class=\"sk-item\"><div class=\"sk-label-container\"><div class=\"sk-label sk-toggleable\"><input class=\"sk-toggleable__control sk-hidden--visually\" id=\"sk-estimator-id-5\" type=\"checkbox\" ><label for=\"sk-estimator-id-5\" class=\"sk-toggleable__label sk-toggleable__label-arrow\">estimator: LogisticRegression</label><div class=\"sk-toggleable__content\"><pre>LogisticRegression()</pre></div></div></div><div class=\"sk-serial\"><div class=\"sk-item\"><div class=\"sk-estimator sk-toggleable\"><input class=\"sk-toggleable__control sk-hidden--visually\" id=\"sk-estimator-id-6\" type=\"checkbox\" ><label for=\"sk-estimator-id-6\" class=\"sk-toggleable__label sk-toggleable__label-arrow\">LogisticRegression</label><div class=\"sk-toggleable__content\"><pre>LogisticRegression()</pre></div></div></div></div></div></div></div></div></div></div>"
     },
     "execution_count": 18,
     "metadata": {},
     "output_type": "execute_result"
    }
   ],
   "source": [
    "random_search = RandomizedSearchCV(LogisticRegression(),\n",
    "                                   param_distributions=param_distribs, cv=5,\n",
    "                                   return_train_score=True)\n",
    "random_search.fit(X_train, y_train)"
   ],
   "metadata": {
    "collapsed": false,
    "pycharm": {
     "name": "#%%\n"
    }
   }
  },
  {
   "cell_type": "code",
   "execution_count": 19,
   "outputs": [
    {
     "name": "stdout",
     "output_type": "stream",
     "text": [
      "Best Parameter: {'C': 90}\n",
      "Best Cross-validity Score: 0.727\n"
     ]
    }
   ],
   "source": [
    "print('Best Parameter: {}'.format(random_search.best_params_))\n",
    "print('Best Cross-validity Score: {:.3f}'.format(random_search.best_score_))"
   ],
   "metadata": {
    "collapsed": false,
    "pycharm": {
     "name": "#%%\n"
    }
   }
  },
  {
   "cell_type": "code",
   "execution_count": 20,
   "outputs": [
    {
     "name": "stdout",
     "output_type": "stream",
     "text": [
      "Test set Score: 0.679\n"
     ]
    }
   ],
   "source": [
    "print('Test set Score: {:.3f}'.format(random_search.score(X_test, y_test)))"
   ],
   "metadata": {
    "collapsed": false,
    "pycharm": {
     "name": "#%%\n"
    }
   }
  },
  {
   "cell_type": "code",
   "execution_count": 21,
   "outputs": [
    {
     "data": {
      "text/plain": "   mean_fit_time  std_fit_time  mean_score_time  std_score_time param_C  \\\n0       0.006137      0.001144         0.000808        0.000132      90   \n1       0.004300      0.000509         0.000603        0.000098       8   \n2       0.004294      0.000272         0.000581        0.000097      37   \n3       0.004244      0.000129         0.000538        0.000141      53   \n4       0.003916      0.000252         0.000470        0.000099      43   \n5       0.004077      0.000374         0.000493        0.000075      55   \n6       0.004059      0.000382         0.000425        0.000024      91   \n7       0.003809      0.000357         0.000446        0.000058      29   \n8       0.003883      0.000439         0.000466        0.000066      25   \n9       0.003923      0.000349         0.000471        0.000105      67   \n\n      params  split0_test_score  split1_test_score  split2_test_score  \\\n0  {'C': 90}               0.75             0.6875             0.8125   \n1   {'C': 8}               0.75             0.6875             0.8125   \n2  {'C': 37}               0.75             0.6875             0.8125   \n3  {'C': 53}               0.75             0.6875             0.8125   \n4  {'C': 43}               0.75             0.6875             0.8125   \n5  {'C': 55}               0.75             0.6875             0.8125   \n6  {'C': 91}               0.75             0.6875             0.8125   \n7  {'C': 29}               0.75             0.6875             0.8125   \n8  {'C': 25}               0.75             0.6875             0.8125   \n9  {'C': 67}               0.75             0.6875             0.8125   \n\n   split3_test_score  ...  mean_test_score  std_test_score  rank_test_score  \\\n0           0.580645  ...         0.727419        0.086175                1   \n1           0.580645  ...         0.727419        0.086175                1   \n2           0.580645  ...         0.727419        0.086175                1   \n3           0.580645  ...         0.727419        0.086175                1   \n4           0.580645  ...         0.727419        0.086175                1   \n5           0.580645  ...         0.727419        0.086175                1   \n6           0.580645  ...         0.727419        0.086175                1   \n7           0.580645  ...         0.727419        0.086175                1   \n8           0.580645  ...         0.727419        0.086175                1   \n9           0.580645  ...         0.727419        0.086175                1   \n\n   split0_train_score  split1_train_score  split2_train_score  \\\n0            0.746032            0.769841            0.730159   \n1            0.746032            0.769841            0.730159   \n2            0.746032            0.769841            0.730159   \n3            0.746032            0.769841            0.730159   \n4            0.746032            0.769841            0.730159   \n5            0.746032            0.769841            0.730159   \n6            0.746032            0.769841            0.730159   \n7            0.746032            0.769841            0.730159   \n8            0.746032            0.769841            0.730159   \n9            0.746032            0.769841            0.730159   \n\n   split3_train_score  split4_train_score  mean_train_score  std_train_score  \n0            0.771654            0.724409          0.748419         0.019567  \n1            0.779528            0.724409          0.749994         0.021586  \n2            0.771654            0.724409          0.748419         0.019567  \n3            0.771654            0.724409          0.748419         0.019567  \n4            0.771654            0.724409          0.748419         0.019567  \n5            0.771654            0.724409          0.748419         0.019567  \n6            0.771654            0.724409          0.748419         0.019567  \n7            0.771654            0.724409          0.748419         0.019567  \n8            0.771654            0.724409          0.748419         0.019567  \n9            0.771654            0.724409          0.748419         0.019567  \n\n[10 rows x 21 columns]",
      "text/html": "<div>\n<style scoped>\n    .dataframe tbody tr th:only-of-type {\n        vertical-align: middle;\n    }\n\n    .dataframe tbody tr th {\n        vertical-align: top;\n    }\n\n    .dataframe thead th {\n        text-align: right;\n    }\n</style>\n<table border=\"1\" class=\"dataframe\">\n  <thead>\n    <tr style=\"text-align: right;\">\n      <th></th>\n      <th>mean_fit_time</th>\n      <th>std_fit_time</th>\n      <th>mean_score_time</th>\n      <th>std_score_time</th>\n      <th>param_C</th>\n      <th>params</th>\n      <th>split0_test_score</th>\n      <th>split1_test_score</th>\n      <th>split2_test_score</th>\n      <th>split3_test_score</th>\n      <th>...</th>\n      <th>mean_test_score</th>\n      <th>std_test_score</th>\n      <th>rank_test_score</th>\n      <th>split0_train_score</th>\n      <th>split1_train_score</th>\n      <th>split2_train_score</th>\n      <th>split3_train_score</th>\n      <th>split4_train_score</th>\n      <th>mean_train_score</th>\n      <th>std_train_score</th>\n    </tr>\n  </thead>\n  <tbody>\n    <tr>\n      <th>0</th>\n      <td>0.006137</td>\n      <td>0.001144</td>\n      <td>0.000808</td>\n      <td>0.000132</td>\n      <td>90</td>\n      <td>{'C': 90}</td>\n      <td>0.75</td>\n      <td>0.6875</td>\n      <td>0.8125</td>\n      <td>0.580645</td>\n      <td>...</td>\n      <td>0.727419</td>\n      <td>0.086175</td>\n      <td>1</td>\n      <td>0.746032</td>\n      <td>0.769841</td>\n      <td>0.730159</td>\n      <td>0.771654</td>\n      <td>0.724409</td>\n      <td>0.748419</td>\n      <td>0.019567</td>\n    </tr>\n    <tr>\n      <th>1</th>\n      <td>0.004300</td>\n      <td>0.000509</td>\n      <td>0.000603</td>\n      <td>0.000098</td>\n      <td>8</td>\n      <td>{'C': 8}</td>\n      <td>0.75</td>\n      <td>0.6875</td>\n      <td>0.8125</td>\n      <td>0.580645</td>\n      <td>...</td>\n      <td>0.727419</td>\n      <td>0.086175</td>\n      <td>1</td>\n      <td>0.746032</td>\n      <td>0.769841</td>\n      <td>0.730159</td>\n      <td>0.779528</td>\n      <td>0.724409</td>\n      <td>0.749994</td>\n      <td>0.021586</td>\n    </tr>\n    <tr>\n      <th>2</th>\n      <td>0.004294</td>\n      <td>0.000272</td>\n      <td>0.000581</td>\n      <td>0.000097</td>\n      <td>37</td>\n      <td>{'C': 37}</td>\n      <td>0.75</td>\n      <td>0.6875</td>\n      <td>0.8125</td>\n      <td>0.580645</td>\n      <td>...</td>\n      <td>0.727419</td>\n      <td>0.086175</td>\n      <td>1</td>\n      <td>0.746032</td>\n      <td>0.769841</td>\n      <td>0.730159</td>\n      <td>0.771654</td>\n      <td>0.724409</td>\n      <td>0.748419</td>\n      <td>0.019567</td>\n    </tr>\n    <tr>\n      <th>3</th>\n      <td>0.004244</td>\n      <td>0.000129</td>\n      <td>0.000538</td>\n      <td>0.000141</td>\n      <td>53</td>\n      <td>{'C': 53}</td>\n      <td>0.75</td>\n      <td>0.6875</td>\n      <td>0.8125</td>\n      <td>0.580645</td>\n      <td>...</td>\n      <td>0.727419</td>\n      <td>0.086175</td>\n      <td>1</td>\n      <td>0.746032</td>\n      <td>0.769841</td>\n      <td>0.730159</td>\n      <td>0.771654</td>\n      <td>0.724409</td>\n      <td>0.748419</td>\n      <td>0.019567</td>\n    </tr>\n    <tr>\n      <th>4</th>\n      <td>0.003916</td>\n      <td>0.000252</td>\n      <td>0.000470</td>\n      <td>0.000099</td>\n      <td>43</td>\n      <td>{'C': 43}</td>\n      <td>0.75</td>\n      <td>0.6875</td>\n      <td>0.8125</td>\n      <td>0.580645</td>\n      <td>...</td>\n      <td>0.727419</td>\n      <td>0.086175</td>\n      <td>1</td>\n      <td>0.746032</td>\n      <td>0.769841</td>\n      <td>0.730159</td>\n      <td>0.771654</td>\n      <td>0.724409</td>\n      <td>0.748419</td>\n      <td>0.019567</td>\n    </tr>\n    <tr>\n      <th>5</th>\n      <td>0.004077</td>\n      <td>0.000374</td>\n      <td>0.000493</td>\n      <td>0.000075</td>\n      <td>55</td>\n      <td>{'C': 55}</td>\n      <td>0.75</td>\n      <td>0.6875</td>\n      <td>0.8125</td>\n      <td>0.580645</td>\n      <td>...</td>\n      <td>0.727419</td>\n      <td>0.086175</td>\n      <td>1</td>\n      <td>0.746032</td>\n      <td>0.769841</td>\n      <td>0.730159</td>\n      <td>0.771654</td>\n      <td>0.724409</td>\n      <td>0.748419</td>\n      <td>0.019567</td>\n    </tr>\n    <tr>\n      <th>6</th>\n      <td>0.004059</td>\n      <td>0.000382</td>\n      <td>0.000425</td>\n      <td>0.000024</td>\n      <td>91</td>\n      <td>{'C': 91}</td>\n      <td>0.75</td>\n      <td>0.6875</td>\n      <td>0.8125</td>\n      <td>0.580645</td>\n      <td>...</td>\n      <td>0.727419</td>\n      <td>0.086175</td>\n      <td>1</td>\n      <td>0.746032</td>\n      <td>0.769841</td>\n      <td>0.730159</td>\n      <td>0.771654</td>\n      <td>0.724409</td>\n      <td>0.748419</td>\n      <td>0.019567</td>\n    </tr>\n    <tr>\n      <th>7</th>\n      <td>0.003809</td>\n      <td>0.000357</td>\n      <td>0.000446</td>\n      <td>0.000058</td>\n      <td>29</td>\n      <td>{'C': 29}</td>\n      <td>0.75</td>\n      <td>0.6875</td>\n      <td>0.8125</td>\n      <td>0.580645</td>\n      <td>...</td>\n      <td>0.727419</td>\n      <td>0.086175</td>\n      <td>1</td>\n      <td>0.746032</td>\n      <td>0.769841</td>\n      <td>0.730159</td>\n      <td>0.771654</td>\n      <td>0.724409</td>\n      <td>0.748419</td>\n      <td>0.019567</td>\n    </tr>\n    <tr>\n      <th>8</th>\n      <td>0.003883</td>\n      <td>0.000439</td>\n      <td>0.000466</td>\n      <td>0.000066</td>\n      <td>25</td>\n      <td>{'C': 25}</td>\n      <td>0.75</td>\n      <td>0.6875</td>\n      <td>0.8125</td>\n      <td>0.580645</td>\n      <td>...</td>\n      <td>0.727419</td>\n      <td>0.086175</td>\n      <td>1</td>\n      <td>0.746032</td>\n      <td>0.769841</td>\n      <td>0.730159</td>\n      <td>0.771654</td>\n      <td>0.724409</td>\n      <td>0.748419</td>\n      <td>0.019567</td>\n    </tr>\n    <tr>\n      <th>9</th>\n      <td>0.003923</td>\n      <td>0.000349</td>\n      <td>0.000471</td>\n      <td>0.000105</td>\n      <td>67</td>\n      <td>{'C': 67}</td>\n      <td>0.75</td>\n      <td>0.6875</td>\n      <td>0.8125</td>\n      <td>0.580645</td>\n      <td>...</td>\n      <td>0.727419</td>\n      <td>0.086175</td>\n      <td>1</td>\n      <td>0.746032</td>\n      <td>0.769841</td>\n      <td>0.730159</td>\n      <td>0.771654</td>\n      <td>0.724409</td>\n      <td>0.748419</td>\n      <td>0.019567</td>\n    </tr>\n  </tbody>\n</table>\n<p>10 rows × 21 columns</p>\n</div>"
     },
     "execution_count": 21,
     "metadata": {},
     "output_type": "execute_result"
    }
   ],
   "source": [
    "result_random = random_search.cv_results_\n",
    "pd.DataFrame(result_random)"
   ],
   "metadata": {
    "collapsed": false,
    "pycharm": {
     "name": "#%%\n"
    }
   }
  },
  {
   "cell_type": "code",
   "execution_count": 22,
   "outputs": [
    {
     "data": {
      "text/plain": "<matplotlib.legend.Legend at 0x147188f70>"
     },
     "execution_count": 22,
     "metadata": {},
     "output_type": "execute_result"
    },
    {
     "data": {
      "text/plain": "<Figure size 432x288 with 1 Axes>",
      "image/png": "[encoded data removed]"
     },
     "metadata": {
      "needs_background": "light"
     },
     "output_type": "display_data"
    }
   ],
   "source": [
    "import matplotlib.pyplot as plt\n",
    "plt.plot(result_grid['param_C'], result_grid['mean_train_score'], label='Train')\n",
    "plt.plot(result_grid['param_C'], result_grid['mean_test_score'], label='Test')\n",
    "plt.legend()"
   ],
   "metadata": {
    "collapsed": false,
    "pycharm": {
     "name": "#%%\n"
    }
   }
  },
  {
   "cell_type": "code",
   "execution_count": null,
   "outputs": [],
   "source": [],
   "metadata": {
    "collapsed": false,
    "pycharm": {
     "name": "#%%\n"
    }
   }
  }
 ],
 "metadata": {
  "kernelspec": {
   "display_name": "Python 3",
   "language": "python",
   "name": "python3"
  },
  "language_info": {
   "codemirror_mode": {
    "name": "ipython",
    "version": 2
   },
   "file_extension": ".py",
   "mimetype": "text/x-python",
   "name": "python",
   "nbconvert_exporter": "python",
   "pygments_lexer": "ipython2",
   "version": "2.7.6"
  }
 },
 "nbformat": 4,
 "nbformat_minor": 0
}