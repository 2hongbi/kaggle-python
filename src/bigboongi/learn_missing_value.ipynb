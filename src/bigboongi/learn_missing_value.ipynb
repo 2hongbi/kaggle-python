{
 "cells": [
  {
   "cell_type": "markdown",
   "source": [
    "### 결측치 처리"
   ],
   "metadata": {
    "collapsed": false
   }
  },
  {
   "cell_type": "code",
   "execution_count": 1,
   "metadata": {
    "collapsed": true
   },
   "outputs": [
    {
     "data": {
      "text/plain": "   salary         sales        roe  industry\n0  1095.0  27595.000000  14.100000         1\n1     NaN   9958.000000  10.900000         1\n2     NaN   6125.899902  23.500000         1\n3   578.0  16246.000000   5.900000         1\n4  1368.0           NaN  13.800000         1\n5  1145.0           NaN  20.000000         2\n6  1078.0   2266.699951  16.400000         2\n7  1094.0   2966.800049  16.299999         2\n8  1237.0   4570.200195  10.500000         2\n9   833.0   2830.000000        NaN         2",
      "text/html": "<div>\n<style scoped>\n    .dataframe tbody tr th:only-of-type {\n        vertical-align: middle;\n    }\n\n    .dataframe tbody tr th {\n        vertical-align: top;\n    }\n\n    .dataframe thead th {\n        text-align: right;\n    }\n</style>\n<table border=\"1\" class=\"dataframe\">\n  <thead>\n    <tr style=\"text-align: right;\">\n      <th></th>\n      <th>salary</th>\n      <th>sales</th>\n      <th>roe</th>\n      <th>industry</th>\n    </tr>\n  </thead>\n  <tbody>\n    <tr>\n      <th>0</th>\n      <td>1095.0</td>\n      <td>27595.000000</td>\n      <td>14.100000</td>\n      <td>1</td>\n    </tr>\n    <tr>\n      <th>1</th>\n      <td>NaN</td>\n      <td>9958.000000</td>\n      <td>10.900000</td>\n      <td>1</td>\n    </tr>\n    <tr>\n      <th>2</th>\n      <td>NaN</td>\n      <td>6125.899902</td>\n      <td>23.500000</td>\n      <td>1</td>\n    </tr>\n    <tr>\n      <th>3</th>\n      <td>578.0</td>\n      <td>16246.000000</td>\n      <td>5.900000</td>\n      <td>1</td>\n    </tr>\n    <tr>\n      <th>4</th>\n      <td>1368.0</td>\n      <td>NaN</td>\n      <td>13.800000</td>\n      <td>1</td>\n    </tr>\n    <tr>\n      <th>5</th>\n      <td>1145.0</td>\n      <td>NaN</td>\n      <td>20.000000</td>\n      <td>2</td>\n    </tr>\n    <tr>\n      <th>6</th>\n      <td>1078.0</td>\n      <td>2266.699951</td>\n      <td>16.400000</td>\n      <td>2</td>\n    </tr>\n    <tr>\n      <th>7</th>\n      <td>1094.0</td>\n      <td>2966.800049</td>\n      <td>16.299999</td>\n      <td>2</td>\n    </tr>\n    <tr>\n      <th>8</th>\n      <td>1237.0</td>\n      <td>4570.200195</td>\n      <td>10.500000</td>\n      <td>2</td>\n    </tr>\n    <tr>\n      <th>9</th>\n      <td>833.0</td>\n      <td>2830.000000</td>\n      <td>NaN</td>\n      <td>2</td>\n    </tr>\n  </tbody>\n</table>\n</div>"
     },
     "execution_count": 1,
     "metadata": {},
     "output_type": "execute_result"
    }
   ],
   "source": [
    "import pandas as pd\n",
    "data = pd.read_csv('./../../data/bigboongi/Ex_Missing.csv', encoding='utf-8')\n",
    "data"
   ]
  },
  {
   "cell_type": "markdown",
   "source": [
    "* isnull() - 결측이면 True, 결측이 아니면 False"
   ],
   "metadata": {
    "collapsed": false
   }
  },
  {
   "cell_type": "code",
   "execution_count": 2,
   "outputs": [
    {
     "data": {
      "text/plain": "   salary  sales    roe  industry\n0   False  False  False     False\n1    True  False  False     False\n2    True  False  False     False\n3   False  False  False     False\n4   False   True  False     False\n5   False   True  False     False\n6   False  False  False     False\n7   False  False  False     False\n8   False  False  False     False\n9   False  False   True     False",
      "text/html": "<div>\n<style scoped>\n    .dataframe tbody tr th:only-of-type {\n        vertical-align: middle;\n    }\n\n    .dataframe tbody tr th {\n        vertical-align: top;\n    }\n\n    .dataframe thead th {\n        text-align: right;\n    }\n</style>\n<table border=\"1\" class=\"dataframe\">\n  <thead>\n    <tr style=\"text-align: right;\">\n      <th></th>\n      <th>salary</th>\n      <th>sales</th>\n      <th>roe</th>\n      <th>industry</th>\n    </tr>\n  </thead>\n  <tbody>\n    <tr>\n      <th>0</th>\n      <td>False</td>\n      <td>False</td>\n      <td>False</td>\n      <td>False</td>\n    </tr>\n    <tr>\n      <th>1</th>\n      <td>True</td>\n      <td>False</td>\n      <td>False</td>\n      <td>False</td>\n    </tr>\n    <tr>\n      <th>2</th>\n      <td>True</td>\n      <td>False</td>\n      <td>False</td>\n      <td>False</td>\n    </tr>\n    <tr>\n      <th>3</th>\n      <td>False</td>\n      <td>False</td>\n      <td>False</td>\n      <td>False</td>\n    </tr>\n    <tr>\n      <th>4</th>\n      <td>False</td>\n      <td>True</td>\n      <td>False</td>\n      <td>False</td>\n    </tr>\n    <tr>\n      <th>5</th>\n      <td>False</td>\n      <td>True</td>\n      <td>False</td>\n      <td>False</td>\n    </tr>\n    <tr>\n      <th>6</th>\n      <td>False</td>\n      <td>False</td>\n      <td>False</td>\n      <td>False</td>\n    </tr>\n    <tr>\n      <th>7</th>\n      <td>False</td>\n      <td>False</td>\n      <td>False</td>\n      <td>False</td>\n    </tr>\n    <tr>\n      <th>8</th>\n      <td>False</td>\n      <td>False</td>\n      <td>False</td>\n      <td>False</td>\n    </tr>\n    <tr>\n      <th>9</th>\n      <td>False</td>\n      <td>False</td>\n      <td>True</td>\n      <td>False</td>\n    </tr>\n  </tbody>\n</table>\n</div>"
     },
     "execution_count": 2,
     "metadata": {},
     "output_type": "execute_result"
    }
   ],
   "source": [
    "pd.isnull(data)\n",
    "data.isnull()"
   ],
   "metadata": {
    "collapsed": false,
    "pycharm": {
     "name": "#%%\n"
    }
   }
  },
  {
   "cell_type": "markdown",
   "source": [
    "* notnull() - 결측이면 False, 결측이 아니면 True"
   ],
   "metadata": {
    "collapsed": false
   }
  },
  {
   "cell_type": "code",
   "execution_count": 3,
   "outputs": [
    {
     "data": {
      "text/plain": "   salary  sales    roe  industry\n0    True   True   True      True\n1   False   True   True      True\n2   False   True   True      True\n3    True   True   True      True\n4    True  False   True      True\n5    True  False   True      True\n6    True   True   True      True\n7    True   True   True      True\n8    True   True   True      True\n9    True   True  False      True",
      "text/html": "<div>\n<style scoped>\n    .dataframe tbody tr th:only-of-type {\n        vertical-align: middle;\n    }\n\n    .dataframe tbody tr th {\n        vertical-align: top;\n    }\n\n    .dataframe thead th {\n        text-align: right;\n    }\n</style>\n<table border=\"1\" class=\"dataframe\">\n  <thead>\n    <tr style=\"text-align: right;\">\n      <th></th>\n      <th>salary</th>\n      <th>sales</th>\n      <th>roe</th>\n      <th>industry</th>\n    </tr>\n  </thead>\n  <tbody>\n    <tr>\n      <th>0</th>\n      <td>True</td>\n      <td>True</td>\n      <td>True</td>\n      <td>True</td>\n    </tr>\n    <tr>\n      <th>1</th>\n      <td>False</td>\n      <td>True</td>\n      <td>True</td>\n      <td>True</td>\n    </tr>\n    <tr>\n      <th>2</th>\n      <td>False</td>\n      <td>True</td>\n      <td>True</td>\n      <td>True</td>\n    </tr>\n    <tr>\n      <th>3</th>\n      <td>True</td>\n      <td>True</td>\n      <td>True</td>\n      <td>True</td>\n    </tr>\n    <tr>\n      <th>4</th>\n      <td>True</td>\n      <td>False</td>\n      <td>True</td>\n      <td>True</td>\n    </tr>\n    <tr>\n      <th>5</th>\n      <td>True</td>\n      <td>False</td>\n      <td>True</td>\n      <td>True</td>\n    </tr>\n    <tr>\n      <th>6</th>\n      <td>True</td>\n      <td>True</td>\n      <td>True</td>\n      <td>True</td>\n    </tr>\n    <tr>\n      <th>7</th>\n      <td>True</td>\n      <td>True</td>\n      <td>True</td>\n      <td>True</td>\n    </tr>\n    <tr>\n      <th>8</th>\n      <td>True</td>\n      <td>True</td>\n      <td>True</td>\n      <td>True</td>\n    </tr>\n    <tr>\n      <th>9</th>\n      <td>True</td>\n      <td>True</td>\n      <td>False</td>\n      <td>True</td>\n    </tr>\n  </tbody>\n</table>\n</div>"
     },
     "execution_count": 3,
     "metadata": {},
     "output_type": "execute_result"
    }
   ],
   "source": [
    "pd.notnull(data)\n",
    "data.notnull()"
   ],
   "metadata": {
    "collapsed": false,
    "pycharm": {
     "name": "#%%\n"
    }
   }
  },
  {
   "cell_type": "markdown",
   "source": [
    "* 변수(컬럼)별로 결측값 개수 확인하기 위해서는 df.isnull().sum() 함수 이용"
   ],
   "metadata": {
    "collapsed": false
   }
  },
  {
   "cell_type": "code",
   "execution_count": 4,
   "outputs": [
    {
     "data": {
      "text/plain": "salary      2\nsales       2\nroe         1\nindustry    0\ndtype: int64"
     },
     "execution_count": 4,
     "metadata": {},
     "output_type": "execute_result"
    }
   ],
   "source": [
    "data.isnull().sum()"
   ],
   "metadata": {
    "collapsed": false,
    "pycharm": {
     "name": "#%%\n"
    }
   }
  },
  {
   "cell_type": "markdown",
   "source": [
    "* 특정 변수(컬럼)의 결측값 개수 확인 - df.isnull().sum()"
   ],
   "metadata": {
    "collapsed": false
   }
  },
  {
   "cell_type": "code",
   "execution_count": 6,
   "outputs": [
    {
     "data": {
      "text/plain": "2"
     },
     "execution_count": 6,
     "metadata": {},
     "output_type": "execute_result"
    }
   ],
   "source": [
    "data['salary'].isnull().sum()"
   ],
   "metadata": {
    "collapsed": false,
    "pycharm": {
     "name": "#%%\n"
    }
   }
  },
  {
   "cell_type": "markdown",
   "source": [
    "* 변수(컬럼)별로 결측이 아닌 값의 개수 확인 - df.notnull().sum()"
   ],
   "metadata": {
    "collapsed": false
   }
  },
  {
   "cell_type": "code",
   "execution_count": 7,
   "outputs": [
    {
     "data": {
      "text/plain": "salary       8\nsales        8\nroe          9\nindustry    10\ndtype: int64"
     },
     "execution_count": 7,
     "metadata": {},
     "output_type": "execute_result"
    }
   ],
   "source": [
    "data.notnull().sum()"
   ],
   "metadata": {
    "collapsed": false,
    "pycharm": {
     "name": "#%%\n"
    }
   }
  },
  {
   "cell_type": "markdown",
   "source": [
    "* 특정 변수(컬럼)이 아닌 값의 개수 확인 - df.notnull().sum()"
   ],
   "metadata": {
    "collapsed": false
   }
  },
  {
   "cell_type": "code",
   "execution_count": 9,
   "outputs": [
    {
     "data": {
      "text/plain": "8"
     },
     "execution_count": 9,
     "metadata": {},
     "output_type": "execute_result"
    }
   ],
   "source": [
    "data['salary'].notnull().sum()"
   ],
   "metadata": {
    "collapsed": false,
    "pycharm": {
     "name": "#%%\n"
    }
   }
  },
  {
   "cell_type": "markdown",
   "source": [
    "* 행별 결측 확인 및 저장 - df.isnull().sum(1)"
   ],
   "metadata": {
    "collapsed": false
   }
  },
  {
   "cell_type": "code",
   "execution_count": 10,
   "outputs": [
    {
     "data": {
      "text/plain": "0    0\n1    1\n2    1\n3    0\n4    1\n5    1\n6    0\n7    0\n8    0\n9    1\ndtype: int64"
     },
     "execution_count": 10,
     "metadata": {},
     "output_type": "execute_result"
    }
   ],
   "source": [
    "data.isnull().sum(1)"
   ],
   "metadata": {
    "collapsed": false,
    "pycharm": {
     "name": "#%%\n"
    }
   }
  },
  {
   "cell_type": "code",
   "execution_count": 11,
   "outputs": [
    {
     "data": {
      "text/plain": "   salary         sales        roe  industry  missing\n0  1095.0  27595.000000  14.100000         1        0\n1     NaN   9958.000000  10.900000         1        1\n2     NaN   6125.899902  23.500000         1        1\n3   578.0  16246.000000   5.900000         1        0\n4  1368.0           NaN  13.800000         1        1\n5  1145.0           NaN  20.000000         2        1\n6  1078.0   2266.699951  16.400000         2        0\n7  1094.0   2966.800049  16.299999         2        0\n8  1237.0   4570.200195  10.500000         2        0\n9   833.0   2830.000000        NaN         2        1",
      "text/html": "<div>\n<style scoped>\n    .dataframe tbody tr th:only-of-type {\n        vertical-align: middle;\n    }\n\n    .dataframe tbody tr th {\n        vertical-align: top;\n    }\n\n    .dataframe thead th {\n        text-align: right;\n    }\n</style>\n<table border=\"1\" class=\"dataframe\">\n  <thead>\n    <tr style=\"text-align: right;\">\n      <th></th>\n      <th>salary</th>\n      <th>sales</th>\n      <th>roe</th>\n      <th>industry</th>\n      <th>missing</th>\n    </tr>\n  </thead>\n  <tbody>\n    <tr>\n      <th>0</th>\n      <td>1095.0</td>\n      <td>27595.000000</td>\n      <td>14.100000</td>\n      <td>1</td>\n      <td>0</td>\n    </tr>\n    <tr>\n      <th>1</th>\n      <td>NaN</td>\n      <td>9958.000000</td>\n      <td>10.900000</td>\n      <td>1</td>\n      <td>1</td>\n    </tr>\n    <tr>\n      <th>2</th>\n      <td>NaN</td>\n      <td>6125.899902</td>\n      <td>23.500000</td>\n      <td>1</td>\n      <td>1</td>\n    </tr>\n    <tr>\n      <th>3</th>\n      <td>578.0</td>\n      <td>16246.000000</td>\n      <td>5.900000</td>\n      <td>1</td>\n      <td>0</td>\n    </tr>\n    <tr>\n      <th>4</th>\n      <td>1368.0</td>\n      <td>NaN</td>\n      <td>13.800000</td>\n      <td>1</td>\n      <td>1</td>\n    </tr>\n    <tr>\n      <th>5</th>\n      <td>1145.0</td>\n      <td>NaN</td>\n      <td>20.000000</td>\n      <td>2</td>\n      <td>1</td>\n    </tr>\n    <tr>\n      <th>6</th>\n      <td>1078.0</td>\n      <td>2266.699951</td>\n      <td>16.400000</td>\n      <td>2</td>\n      <td>0</td>\n    </tr>\n    <tr>\n      <th>7</th>\n      <td>1094.0</td>\n      <td>2966.800049</td>\n      <td>16.299999</td>\n      <td>2</td>\n      <td>0</td>\n    </tr>\n    <tr>\n      <th>8</th>\n      <td>1237.0</td>\n      <td>4570.200195</td>\n      <td>10.500000</td>\n      <td>2</td>\n      <td>0</td>\n    </tr>\n    <tr>\n      <th>9</th>\n      <td>833.0</td>\n      <td>2830.000000</td>\n      <td>NaN</td>\n      <td>2</td>\n      <td>1</td>\n    </tr>\n  </tbody>\n</table>\n</div>"
     },
     "execution_count": 11,
     "metadata": {},
     "output_type": "execute_result"
    }
   ],
   "source": [
    "data['missing'] = data.isnull().sum(1)\n",
    "data"
   ],
   "metadata": {
    "collapsed": false,
    "pycharm": {
     "name": "#%%\n"
    }
   }
  },
  {
   "cell_type": "markdown",
   "source": [
    "* 행(row) 단위로 실측값 개수 구하기 - df.notnull().sum(1)"
   ],
   "metadata": {
    "collapsed": false
   }
  },
  {
   "cell_type": "code",
   "execution_count": 12,
   "outputs": [],
   "source": [
    "del data['missing']\n",
    "data['valid'] = data.notnull().sum(1)"
   ],
   "metadata": {
    "collapsed": false,
    "pycharm": {
     "name": "#%%\n"
    }
   }
  },
  {
   "cell_type": "code",
   "execution_count": 13,
   "outputs": [
    {
     "data": {
      "text/plain": "   salary         sales        roe  industry  valid\n0  1095.0  27595.000000  14.100000         1      4\n1     NaN   9958.000000  10.900000         1      3\n2     NaN   6125.899902  23.500000         1      3\n3   578.0  16246.000000   5.900000         1      4\n4  1368.0           NaN  13.800000         1      3\n5  1145.0           NaN  20.000000         2      3\n6  1078.0   2266.699951  16.400000         2      4\n7  1094.0   2966.800049  16.299999         2      4\n8  1237.0   4570.200195  10.500000         2      4\n9   833.0   2830.000000        NaN         2      3",
      "text/html": "<div>\n<style scoped>\n    .dataframe tbody tr th:only-of-type {\n        vertical-align: middle;\n    }\n\n    .dataframe tbody tr th {\n        vertical-align: top;\n    }\n\n    .dataframe thead th {\n        text-align: right;\n    }\n</style>\n<table border=\"1\" class=\"dataframe\">\n  <thead>\n    <tr style=\"text-align: right;\">\n      <th></th>\n      <th>salary</th>\n      <th>sales</th>\n      <th>roe</th>\n      <th>industry</th>\n      <th>valid</th>\n    </tr>\n  </thead>\n  <tbody>\n    <tr>\n      <th>0</th>\n      <td>1095.0</td>\n      <td>27595.000000</td>\n      <td>14.100000</td>\n      <td>1</td>\n      <td>4</td>\n    </tr>\n    <tr>\n      <th>1</th>\n      <td>NaN</td>\n      <td>9958.000000</td>\n      <td>10.900000</td>\n      <td>1</td>\n      <td>3</td>\n    </tr>\n    <tr>\n      <th>2</th>\n      <td>NaN</td>\n      <td>6125.899902</td>\n      <td>23.500000</td>\n      <td>1</td>\n      <td>3</td>\n    </tr>\n    <tr>\n      <th>3</th>\n      <td>578.0</td>\n      <td>16246.000000</td>\n      <td>5.900000</td>\n      <td>1</td>\n      <td>4</td>\n    </tr>\n    <tr>\n      <th>4</th>\n      <td>1368.0</td>\n      <td>NaN</td>\n      <td>13.800000</td>\n      <td>1</td>\n      <td>3</td>\n    </tr>\n    <tr>\n      <th>5</th>\n      <td>1145.0</td>\n      <td>NaN</td>\n      <td>20.000000</td>\n      <td>2</td>\n      <td>3</td>\n    </tr>\n    <tr>\n      <th>6</th>\n      <td>1078.0</td>\n      <td>2266.699951</td>\n      <td>16.400000</td>\n      <td>2</td>\n      <td>4</td>\n    </tr>\n    <tr>\n      <th>7</th>\n      <td>1094.0</td>\n      <td>2966.800049</td>\n      <td>16.299999</td>\n      <td>2</td>\n      <td>4</td>\n    </tr>\n    <tr>\n      <th>8</th>\n      <td>1237.0</td>\n      <td>4570.200195</td>\n      <td>10.500000</td>\n      <td>2</td>\n      <td>4</td>\n    </tr>\n    <tr>\n      <th>9</th>\n      <td>833.0</td>\n      <td>2830.000000</td>\n      <td>NaN</td>\n      <td>2</td>\n      <td>3</td>\n    </tr>\n  </tbody>\n</table>\n</div>"
     },
     "execution_count": 13,
     "metadata": {},
     "output_type": "execute_result"
    }
   ],
   "source": [
    "data"
   ],
   "metadata": {
    "collapsed": false,
    "pycharm": {
     "name": "#%%\n"
    }
   }
  },
  {
   "cell_type": "markdown",
   "source": [
    "### 결측값 제거 : dropna()"
   ],
   "metadata": {
    "collapsed": false
   }
  },
  {
   "cell_type": "markdown",
   "source": [
    "* 결측값이 있는 행(row/case) 제거 - 행은 축이 0\n",
    "* dropna(axis=0)\n",
    "* 결측이 있는 행(가로)가 제거"
   ],
   "metadata": {
    "collapsed": false
   }
  },
  {
   "cell_type": "code",
   "execution_count": 14,
   "outputs": [
    {
     "data": {
      "text/plain": "   salary         sales        roe  industry  valid\n0  1095.0  27595.000000  14.100000         1      4\n3   578.0  16246.000000   5.900000         1      4\n6  1078.0   2266.699951  16.400000         2      4\n7  1094.0   2966.800049  16.299999         2      4\n8  1237.0   4570.200195  10.500000         2      4",
      "text/html": "<div>\n<style scoped>\n    .dataframe tbody tr th:only-of-type {\n        vertical-align: middle;\n    }\n\n    .dataframe tbody tr th {\n        vertical-align: top;\n    }\n\n    .dataframe thead th {\n        text-align: right;\n    }\n</style>\n<table border=\"1\" class=\"dataframe\">\n  <thead>\n    <tr style=\"text-align: right;\">\n      <th></th>\n      <th>salary</th>\n      <th>sales</th>\n      <th>roe</th>\n      <th>industry</th>\n      <th>valid</th>\n    </tr>\n  </thead>\n  <tbody>\n    <tr>\n      <th>0</th>\n      <td>1095.0</td>\n      <td>27595.000000</td>\n      <td>14.100000</td>\n      <td>1</td>\n      <td>4</td>\n    </tr>\n    <tr>\n      <th>3</th>\n      <td>578.0</td>\n      <td>16246.000000</td>\n      <td>5.900000</td>\n      <td>1</td>\n      <td>4</td>\n    </tr>\n    <tr>\n      <th>6</th>\n      <td>1078.0</td>\n      <td>2266.699951</td>\n      <td>16.400000</td>\n      <td>2</td>\n      <td>4</td>\n    </tr>\n    <tr>\n      <th>7</th>\n      <td>1094.0</td>\n      <td>2966.800049</td>\n      <td>16.299999</td>\n      <td>2</td>\n      <td>4</td>\n    </tr>\n    <tr>\n      <th>8</th>\n      <td>1237.0</td>\n      <td>4570.200195</td>\n      <td>10.500000</td>\n      <td>2</td>\n      <td>4</td>\n    </tr>\n  </tbody>\n</table>\n</div>"
     },
     "execution_count": 14,
     "metadata": {},
     "output_type": "execute_result"
    }
   ],
   "source": [
    "data_del_row = data.dropna(axis=0)\n",
    "data_del_row"
   ],
   "metadata": {
    "collapsed": false,
    "pycharm": {
     "name": "#%%\n"
    }
   }
  },
  {
   "cell_type": "markdown",
   "source": [
    "* 결측값이 있는 열(column/variable) 제거 - 열은 축이 1\n",
    "* 결측치가 하나라도 있는 변수는 제거됨"
   ],
   "metadata": {
    "collapsed": false
   }
  },
  {
   "cell_type": "code",
   "execution_count": 15,
   "outputs": [
    {
     "data": {
      "text/plain": "   industry  valid\n0         1      4\n1         1      3\n2         1      3\n3         1      4\n4         1      3\n5         2      3\n6         2      4\n7         2      4\n8         2      4\n9         2      3",
      "text/html": "<div>\n<style scoped>\n    .dataframe tbody tr th:only-of-type {\n        vertical-align: middle;\n    }\n\n    .dataframe tbody tr th {\n        vertical-align: top;\n    }\n\n    .dataframe thead th {\n        text-align: right;\n    }\n</style>\n<table border=\"1\" class=\"dataframe\">\n  <thead>\n    <tr style=\"text-align: right;\">\n      <th></th>\n      <th>industry</th>\n      <th>valid</th>\n    </tr>\n  </thead>\n  <tbody>\n    <tr>\n      <th>0</th>\n      <td>1</td>\n      <td>4</td>\n    </tr>\n    <tr>\n      <th>1</th>\n      <td>1</td>\n      <td>3</td>\n    </tr>\n    <tr>\n      <th>2</th>\n      <td>1</td>\n      <td>3</td>\n    </tr>\n    <tr>\n      <th>3</th>\n      <td>1</td>\n      <td>4</td>\n    </tr>\n    <tr>\n      <th>4</th>\n      <td>1</td>\n      <td>3</td>\n    </tr>\n    <tr>\n      <th>5</th>\n      <td>2</td>\n      <td>3</td>\n    </tr>\n    <tr>\n      <th>6</th>\n      <td>2</td>\n      <td>4</td>\n    </tr>\n    <tr>\n      <th>7</th>\n      <td>2</td>\n      <td>4</td>\n    </tr>\n    <tr>\n      <th>8</th>\n      <td>2</td>\n      <td>4</td>\n    </tr>\n    <tr>\n      <th>9</th>\n      <td>2</td>\n      <td>3</td>\n    </tr>\n  </tbody>\n</table>\n</div>"
     },
     "execution_count": 15,
     "metadata": {},
     "output_type": "execute_result"
    }
   ],
   "source": [
    "data_del_col = data.dropna(axis=1)\n",
    "data_del_col"
   ],
   "metadata": {
    "collapsed": false,
    "pycharm": {
     "name": "#%%\n"
    }
   }
  },
  {
   "cell_type": "markdown",
   "source": [
    "* 결측값 있는 특정 행/열 제거 - 데이터[['변수명']].dropna()"
   ],
   "metadata": {
    "collapsed": false
   }
  },
  {
   "cell_type": "code",
   "execution_count": 16,
   "outputs": [
    {
     "data": {
      "text/plain": "   salary\n0  1095.0\n3   578.0\n4  1368.0\n5  1145.0\n6  1078.0\n7  1094.0\n8  1237.0\n9   833.0",
      "text/html": "<div>\n<style scoped>\n    .dataframe tbody tr th:only-of-type {\n        vertical-align: middle;\n    }\n\n    .dataframe tbody tr th {\n        vertical-align: top;\n    }\n\n    .dataframe thead th {\n        text-align: right;\n    }\n</style>\n<table border=\"1\" class=\"dataframe\">\n  <thead>\n    <tr style=\"text-align: right;\">\n      <th></th>\n      <th>salary</th>\n    </tr>\n  </thead>\n  <tbody>\n    <tr>\n      <th>0</th>\n      <td>1095.0</td>\n    </tr>\n    <tr>\n      <th>3</th>\n      <td>578.0</td>\n    </tr>\n    <tr>\n      <th>4</th>\n      <td>1368.0</td>\n    </tr>\n    <tr>\n      <th>5</th>\n      <td>1145.0</td>\n    </tr>\n    <tr>\n      <th>6</th>\n      <td>1078.0</td>\n    </tr>\n    <tr>\n      <th>7</th>\n      <td>1094.0</td>\n    </tr>\n    <tr>\n      <th>8</th>\n      <td>1237.0</td>\n    </tr>\n    <tr>\n      <th>9</th>\n      <td>833.0</td>\n    </tr>\n  </tbody>\n</table>\n</div>"
     },
     "execution_count": 16,
     "metadata": {},
     "output_type": "execute_result"
    }
   ],
   "source": [
    "data[['salary']].dropna()"
   ],
   "metadata": {
    "collapsed": false,
    "pycharm": {
     "name": "#%%\n"
    }
   }
  },
  {
   "cell_type": "markdown",
   "source": [
    "* dropna()의 기본은 dropna(axis=0)"
   ],
   "metadata": {
    "collapsed": false
   }
  },
  {
   "cell_type": "code",
   "execution_count": 17,
   "outputs": [
    {
     "data": {
      "text/plain": "   salary         sales        roe  industry\n0  1095.0  27595.000000  14.100000         1\n3   578.0  16246.000000   5.900000         1\n6  1078.0   2266.699951  16.400000         2\n7  1094.0   2966.800049  16.299999         2\n8  1237.0   4570.200195  10.500000         2",
      "text/html": "<div>\n<style scoped>\n    .dataframe tbody tr th:only-of-type {\n        vertical-align: middle;\n    }\n\n    .dataframe tbody tr th {\n        vertical-align: top;\n    }\n\n    .dataframe thead th {\n        text-align: right;\n    }\n</style>\n<table border=\"1\" class=\"dataframe\">\n  <thead>\n    <tr style=\"text-align: right;\">\n      <th></th>\n      <th>salary</th>\n      <th>sales</th>\n      <th>roe</th>\n      <th>industry</th>\n    </tr>\n  </thead>\n  <tbody>\n    <tr>\n      <th>0</th>\n      <td>1095.0</td>\n      <td>27595.000000</td>\n      <td>14.100000</td>\n      <td>1</td>\n    </tr>\n    <tr>\n      <th>3</th>\n      <td>578.0</td>\n      <td>16246.000000</td>\n      <td>5.900000</td>\n      <td>1</td>\n    </tr>\n    <tr>\n      <th>6</th>\n      <td>1078.0</td>\n      <td>2266.699951</td>\n      <td>16.400000</td>\n      <td>2</td>\n    </tr>\n    <tr>\n      <th>7</th>\n      <td>1094.0</td>\n      <td>2966.800049</td>\n      <td>16.299999</td>\n      <td>2</td>\n    </tr>\n    <tr>\n      <th>8</th>\n      <td>1237.0</td>\n      <td>4570.200195</td>\n      <td>10.500000</td>\n      <td>2</td>\n    </tr>\n  </tbody>\n</table>\n</div>"
     },
     "execution_count": 17,
     "metadata": {},
     "output_type": "execute_result"
    }
   ],
   "source": [
    "data[['salary', 'sales', 'roe', 'industry']].dropna()"
   ],
   "metadata": {
    "collapsed": false,
    "pycharm": {
     "name": "#%%\n"
    }
   }
  },
  {
   "cell_type": "code",
   "execution_count": 18,
   "outputs": [
    {
     "data": {
      "text/plain": "   salary         sales        roe  industry\n0  1095.0  27595.000000  14.100000         1\n3   578.0  16246.000000   5.900000         1\n6  1078.0   2266.699951  16.400000         2\n7  1094.0   2966.800049  16.299999         2\n8  1237.0   4570.200195  10.500000         2",
      "text/html": "<div>\n<style scoped>\n    .dataframe tbody tr th:only-of-type {\n        vertical-align: middle;\n    }\n\n    .dataframe tbody tr th {\n        vertical-align: top;\n    }\n\n    .dataframe thead th {\n        text-align: right;\n    }\n</style>\n<table border=\"1\" class=\"dataframe\">\n  <thead>\n    <tr style=\"text-align: right;\">\n      <th></th>\n      <th>salary</th>\n      <th>sales</th>\n      <th>roe</th>\n      <th>industry</th>\n    </tr>\n  </thead>\n  <tbody>\n    <tr>\n      <th>0</th>\n      <td>1095.0</td>\n      <td>27595.000000</td>\n      <td>14.100000</td>\n      <td>1</td>\n    </tr>\n    <tr>\n      <th>3</th>\n      <td>578.0</td>\n      <td>16246.000000</td>\n      <td>5.900000</td>\n      <td>1</td>\n    </tr>\n    <tr>\n      <th>6</th>\n      <td>1078.0</td>\n      <td>2266.699951</td>\n      <td>16.400000</td>\n      <td>2</td>\n    </tr>\n    <tr>\n      <th>7</th>\n      <td>1094.0</td>\n      <td>2966.800049</td>\n      <td>16.299999</td>\n      <td>2</td>\n    </tr>\n    <tr>\n      <th>8</th>\n      <td>1237.0</td>\n      <td>4570.200195</td>\n      <td>10.500000</td>\n      <td>2</td>\n    </tr>\n  </tbody>\n</table>\n</div>"
     },
     "execution_count": 18,
     "metadata": {},
     "output_type": "execute_result"
    }
   ],
   "source": [
    "data[['salary', 'sales', 'roe', 'industry']].dropna(axis=0)"
   ],
   "metadata": {
    "collapsed": false,
    "pycharm": {
     "name": "#%%\n"
    }
   }
  },
  {
   "cell_type": "code",
   "execution_count": 19,
   "outputs": [
    {
     "data": {
      "text/plain": "   industry\n0         1\n1         1\n2         1\n3         1\n4         1\n5         2\n6         2\n7         2\n8         2\n9         2",
      "text/html": "<div>\n<style scoped>\n    .dataframe tbody tr th:only-of-type {\n        vertical-align: middle;\n    }\n\n    .dataframe tbody tr th {\n        vertical-align: top;\n    }\n\n    .dataframe thead th {\n        text-align: right;\n    }\n</style>\n<table border=\"1\" class=\"dataframe\">\n  <thead>\n    <tr style=\"text-align: right;\">\n      <th></th>\n      <th>industry</th>\n    </tr>\n  </thead>\n  <tbody>\n    <tr>\n      <th>0</th>\n      <td>1</td>\n    </tr>\n    <tr>\n      <th>1</th>\n      <td>1</td>\n    </tr>\n    <tr>\n      <th>2</th>\n      <td>1</td>\n    </tr>\n    <tr>\n      <th>3</th>\n      <td>1</td>\n    </tr>\n    <tr>\n      <th>4</th>\n      <td>1</td>\n    </tr>\n    <tr>\n      <th>5</th>\n      <td>2</td>\n    </tr>\n    <tr>\n      <th>6</th>\n      <td>2</td>\n    </tr>\n    <tr>\n      <th>7</th>\n      <td>2</td>\n    </tr>\n    <tr>\n      <th>8</th>\n      <td>2</td>\n    </tr>\n    <tr>\n      <th>9</th>\n      <td>2</td>\n    </tr>\n  </tbody>\n</table>\n</div>"
     },
     "execution_count": 19,
     "metadata": {},
     "output_type": "execute_result"
    }
   ],
   "source": [
    "data[['salary', 'sales', 'roe', 'industry']].dropna(axis=1)"
   ],
   "metadata": {
    "collapsed": false,
    "pycharm": {
     "name": "#%%\n"
    }
   }
  },
  {
   "cell_type": "markdown",
   "source": [
    "### 결측값 대체 - fillna()"
   ],
   "metadata": {
    "collapsed": false
   }
  },
  {
   "cell_type": "code",
   "execution_count": 20,
   "outputs": [
    {
     "data": {
      "text/plain": "   salary         sales        roe  industry\n0  1095.0  27595.000000  14.100000         1\n1     NaN   9958.000000  10.900000         1\n2     NaN   6125.899902  23.500000         1\n3   578.0  16246.000000   5.900000         1\n4  1368.0           NaN  13.800000         1\n5  1145.0           NaN  20.000000         2\n6  1078.0   2266.699951  16.400000         2\n7  1094.0   2966.800049  16.299999         2\n8  1237.0   4570.200195  10.500000         2\n9   833.0   2830.000000        NaN         2",
      "text/html": "<div>\n<style scoped>\n    .dataframe tbody tr th:only-of-type {\n        vertical-align: middle;\n    }\n\n    .dataframe tbody tr th {\n        vertical-align: top;\n    }\n\n    .dataframe thead th {\n        text-align: right;\n    }\n</style>\n<table border=\"1\" class=\"dataframe\">\n  <thead>\n    <tr style=\"text-align: right;\">\n      <th></th>\n      <th>salary</th>\n      <th>sales</th>\n      <th>roe</th>\n      <th>industry</th>\n    </tr>\n  </thead>\n  <tbody>\n    <tr>\n      <th>0</th>\n      <td>1095.0</td>\n      <td>27595.000000</td>\n      <td>14.100000</td>\n      <td>1</td>\n    </tr>\n    <tr>\n      <th>1</th>\n      <td>NaN</td>\n      <td>9958.000000</td>\n      <td>10.900000</td>\n      <td>1</td>\n    </tr>\n    <tr>\n      <th>2</th>\n      <td>NaN</td>\n      <td>6125.899902</td>\n      <td>23.500000</td>\n      <td>1</td>\n    </tr>\n    <tr>\n      <th>3</th>\n      <td>578.0</td>\n      <td>16246.000000</td>\n      <td>5.900000</td>\n      <td>1</td>\n    </tr>\n    <tr>\n      <th>4</th>\n      <td>1368.0</td>\n      <td>NaN</td>\n      <td>13.800000</td>\n      <td>1</td>\n    </tr>\n    <tr>\n      <th>5</th>\n      <td>1145.0</td>\n      <td>NaN</td>\n      <td>20.000000</td>\n      <td>2</td>\n    </tr>\n    <tr>\n      <th>6</th>\n      <td>1078.0</td>\n      <td>2266.699951</td>\n      <td>16.400000</td>\n      <td>2</td>\n    </tr>\n    <tr>\n      <th>7</th>\n      <td>1094.0</td>\n      <td>2966.800049</td>\n      <td>16.299999</td>\n      <td>2</td>\n    </tr>\n    <tr>\n      <th>8</th>\n      <td>1237.0</td>\n      <td>4570.200195</td>\n      <td>10.500000</td>\n      <td>2</td>\n    </tr>\n    <tr>\n      <th>9</th>\n      <td>833.0</td>\n      <td>2830.000000</td>\n      <td>NaN</td>\n      <td>2</td>\n    </tr>\n  </tbody>\n</table>\n</div>"
     },
     "execution_count": 20,
     "metadata": {},
     "output_type": "execute_result"
    }
   ],
   "source": [
    "data = pd.read_csv('./../../data/bigboongi/Ex_Missing.csv', encoding='utf-8')\n",
    "data"
   ],
   "metadata": {
    "collapsed": false,
    "pycharm": {
     "name": "#%%\n"
    }
   }
  },
  {
   "cell_type": "markdown",
   "source": [
    "* 특정값으로 대체 - df.fillna(value/string)"
   ],
   "metadata": {
    "collapsed": false
   }
  },
  {
   "cell_type": "code",
   "execution_count": 21,
   "outputs": [
    {
     "data": {
      "text/plain": "   salary         sales        roe  industry\n0  1095.0  27595.000000  14.100000         1\n1     0.0   9958.000000  10.900000         1\n2     0.0   6125.899902  23.500000         1\n3   578.0  16246.000000   5.900000         1\n4  1368.0      0.000000  13.800000         1\n5  1145.0      0.000000  20.000000         2\n6  1078.0   2266.699951  16.400000         2\n7  1094.0   2966.800049  16.299999         2\n8  1237.0   4570.200195  10.500000         2\n9   833.0   2830.000000   0.000000         2",
      "text/html": "<div>\n<style scoped>\n    .dataframe tbody tr th:only-of-type {\n        vertical-align: middle;\n    }\n\n    .dataframe tbody tr th {\n        vertical-align: top;\n    }\n\n    .dataframe thead th {\n        text-align: right;\n    }\n</style>\n<table border=\"1\" class=\"dataframe\">\n  <thead>\n    <tr style=\"text-align: right;\">\n      <th></th>\n      <th>salary</th>\n      <th>sales</th>\n      <th>roe</th>\n      <th>industry</th>\n    </tr>\n  </thead>\n  <tbody>\n    <tr>\n      <th>0</th>\n      <td>1095.0</td>\n      <td>27595.000000</td>\n      <td>14.100000</td>\n      <td>1</td>\n    </tr>\n    <tr>\n      <th>1</th>\n      <td>0.0</td>\n      <td>9958.000000</td>\n      <td>10.900000</td>\n      <td>1</td>\n    </tr>\n    <tr>\n      <th>2</th>\n      <td>0.0</td>\n      <td>6125.899902</td>\n      <td>23.500000</td>\n      <td>1</td>\n    </tr>\n    <tr>\n      <th>3</th>\n      <td>578.0</td>\n      <td>16246.000000</td>\n      <td>5.900000</td>\n      <td>1</td>\n    </tr>\n    <tr>\n      <th>4</th>\n      <td>1368.0</td>\n      <td>0.000000</td>\n      <td>13.800000</td>\n      <td>1</td>\n    </tr>\n    <tr>\n      <th>5</th>\n      <td>1145.0</td>\n      <td>0.000000</td>\n      <td>20.000000</td>\n      <td>2</td>\n    </tr>\n    <tr>\n      <th>6</th>\n      <td>1078.0</td>\n      <td>2266.699951</td>\n      <td>16.400000</td>\n      <td>2</td>\n    </tr>\n    <tr>\n      <th>7</th>\n      <td>1094.0</td>\n      <td>2966.800049</td>\n      <td>16.299999</td>\n      <td>2</td>\n    </tr>\n    <tr>\n      <th>8</th>\n      <td>1237.0</td>\n      <td>4570.200195</td>\n      <td>10.500000</td>\n      <td>2</td>\n    </tr>\n    <tr>\n      <th>9</th>\n      <td>833.0</td>\n      <td>2830.000000</td>\n      <td>0.000000</td>\n      <td>2</td>\n    </tr>\n  </tbody>\n</table>\n</div>"
     },
     "execution_count": 21,
     "metadata": {},
     "output_type": "execute_result"
    }
   ],
   "source": [
    "data_0 = data.fillna(0)\n",
    "data_0"
   ],
   "metadata": {
    "collapsed": false,
    "pycharm": {
     "name": "#%%\n"
    }
   }
  },
  {
   "cell_type": "code",
   "execution_count": 22,
   "outputs": [
    {
     "data": {
      "text/plain": "    salary        sales        roe  industry\n0   1095.0      27595.0       14.1         1\n1  missing       9958.0       10.9         1\n2  missing  6125.899902       23.5         1\n3    578.0      16246.0        5.9         1\n4   1368.0      missing       13.8         1\n5   1145.0      missing       20.0         2\n6   1078.0  2266.699951       16.4         2\n7   1094.0  2966.800049  16.299999         2\n8   1237.0  4570.200195       10.5         2\n9    833.0       2830.0    missing         2",
      "text/html": "<div>\n<style scoped>\n    .dataframe tbody tr th:only-of-type {\n        vertical-align: middle;\n    }\n\n    .dataframe tbody tr th {\n        vertical-align: top;\n    }\n\n    .dataframe thead th {\n        text-align: right;\n    }\n</style>\n<table border=\"1\" class=\"dataframe\">\n  <thead>\n    <tr style=\"text-align: right;\">\n      <th></th>\n      <th>salary</th>\n      <th>sales</th>\n      <th>roe</th>\n      <th>industry</th>\n    </tr>\n  </thead>\n  <tbody>\n    <tr>\n      <th>0</th>\n      <td>1095.0</td>\n      <td>27595.0</td>\n      <td>14.1</td>\n      <td>1</td>\n    </tr>\n    <tr>\n      <th>1</th>\n      <td>missing</td>\n      <td>9958.0</td>\n      <td>10.9</td>\n      <td>1</td>\n    </tr>\n    <tr>\n      <th>2</th>\n      <td>missing</td>\n      <td>6125.899902</td>\n      <td>23.5</td>\n      <td>1</td>\n    </tr>\n    <tr>\n      <th>3</th>\n      <td>578.0</td>\n      <td>16246.0</td>\n      <td>5.9</td>\n      <td>1</td>\n    </tr>\n    <tr>\n      <th>4</th>\n      <td>1368.0</td>\n      <td>missing</td>\n      <td>13.8</td>\n      <td>1</td>\n    </tr>\n    <tr>\n      <th>5</th>\n      <td>1145.0</td>\n      <td>missing</td>\n      <td>20.0</td>\n      <td>2</td>\n    </tr>\n    <tr>\n      <th>6</th>\n      <td>1078.0</td>\n      <td>2266.699951</td>\n      <td>16.4</td>\n      <td>2</td>\n    </tr>\n    <tr>\n      <th>7</th>\n      <td>1094.0</td>\n      <td>2966.800049</td>\n      <td>16.299999</td>\n      <td>2</td>\n    </tr>\n    <tr>\n      <th>8</th>\n      <td>1237.0</td>\n      <td>4570.200195</td>\n      <td>10.5</td>\n      <td>2</td>\n    </tr>\n    <tr>\n      <th>9</th>\n      <td>833.0</td>\n      <td>2830.0</td>\n      <td>missing</td>\n      <td>2</td>\n    </tr>\n  </tbody>\n</table>\n</div>"
     },
     "execution_count": 22,
     "metadata": {},
     "output_type": "execute_result"
    }
   ],
   "source": [
    "data_missing = data.fillna('missing')\n",
    "data_missing"
   ],
   "metadata": {
    "collapsed": false,
    "pycharm": {
     "name": "#%%\n"
    }
   }
  },
  {
   "cell_type": "markdown",
   "source": [
    "* 해당 변수의 앞의 값으로 채우기 - df.fillna(method='ffill') or df.fillna(method='pad')"
   ],
   "metadata": {
    "collapsed": false
   }
  },
  {
   "cell_type": "code",
   "execution_count": 23,
   "outputs": [
    {
     "data": {
      "text/plain": "   salary         sales        roe  industry\n0  1095.0  27595.000000  14.100000         1\n1  1095.0   9958.000000  10.900000         1\n2  1095.0   6125.899902  23.500000         1\n3   578.0  16246.000000   5.900000         1\n4  1368.0  16246.000000  13.800000         1\n5  1145.0  16246.000000  20.000000         2\n6  1078.0   2266.699951  16.400000         2\n7  1094.0   2966.800049  16.299999         2\n8  1237.0   4570.200195  10.500000         2\n9   833.0   2830.000000  10.500000         2",
      "text/html": "<div>\n<style scoped>\n    .dataframe tbody tr th:only-of-type {\n        vertical-align: middle;\n    }\n\n    .dataframe tbody tr th {\n        vertical-align: top;\n    }\n\n    .dataframe thead th {\n        text-align: right;\n    }\n</style>\n<table border=\"1\" class=\"dataframe\">\n  <thead>\n    <tr style=\"text-align: right;\">\n      <th></th>\n      <th>salary</th>\n      <th>sales</th>\n      <th>roe</th>\n      <th>industry</th>\n    </tr>\n  </thead>\n  <tbody>\n    <tr>\n      <th>0</th>\n      <td>1095.0</td>\n      <td>27595.000000</td>\n      <td>14.100000</td>\n      <td>1</td>\n    </tr>\n    <tr>\n      <th>1</th>\n      <td>1095.0</td>\n      <td>9958.000000</td>\n      <td>10.900000</td>\n      <td>1</td>\n    </tr>\n    <tr>\n      <th>2</th>\n      <td>1095.0</td>\n      <td>6125.899902</td>\n      <td>23.500000</td>\n      <td>1</td>\n    </tr>\n    <tr>\n      <th>3</th>\n      <td>578.0</td>\n      <td>16246.000000</td>\n      <td>5.900000</td>\n      <td>1</td>\n    </tr>\n    <tr>\n      <th>4</th>\n      <td>1368.0</td>\n      <td>16246.000000</td>\n      <td>13.800000</td>\n      <td>1</td>\n    </tr>\n    <tr>\n      <th>5</th>\n      <td>1145.0</td>\n      <td>16246.000000</td>\n      <td>20.000000</td>\n      <td>2</td>\n    </tr>\n    <tr>\n      <th>6</th>\n      <td>1078.0</td>\n      <td>2266.699951</td>\n      <td>16.400000</td>\n      <td>2</td>\n    </tr>\n    <tr>\n      <th>7</th>\n      <td>1094.0</td>\n      <td>2966.800049</td>\n      <td>16.299999</td>\n      <td>2</td>\n    </tr>\n    <tr>\n      <th>8</th>\n      <td>1237.0</td>\n      <td>4570.200195</td>\n      <td>10.500000</td>\n      <td>2</td>\n    </tr>\n    <tr>\n      <th>9</th>\n      <td>833.0</td>\n      <td>2830.000000</td>\n      <td>10.500000</td>\n      <td>2</td>\n    </tr>\n  </tbody>\n</table>\n</div>"
     },
     "execution_count": 23,
     "metadata": {},
     "output_type": "execute_result"
    }
   ],
   "source": [
    "data_ffill = data.fillna(method='ffill')\n",
    "data_ffill"
   ],
   "metadata": {
    "collapsed": false,
    "pycharm": {
     "name": "#%%\n"
    }
   }
  },
  {
   "cell_type": "code",
   "execution_count": 24,
   "outputs": [
    {
     "data": {
      "text/plain": "   salary         sales        roe  industry\n0  1095.0  27595.000000  14.100000         1\n1     NaN   9958.000000  10.900000         1\n2     NaN   6125.899902  23.500000         1\n3   578.0  16246.000000   5.900000         1\n4  1368.0           NaN  13.800000         1\n5  1145.0           NaN  20.000000         2\n6  1078.0   2266.699951  16.400000         2\n7  1094.0   2966.800049  16.299999         2\n8  1237.0   4570.200195  10.500000         2\n9   833.0   2830.000000        NaN         2",
      "text/html": "<div>\n<style scoped>\n    .dataframe tbody tr th:only-of-type {\n        vertical-align: middle;\n    }\n\n    .dataframe tbody tr th {\n        vertical-align: top;\n    }\n\n    .dataframe thead th {\n        text-align: right;\n    }\n</style>\n<table border=\"1\" class=\"dataframe\">\n  <thead>\n    <tr style=\"text-align: right;\">\n      <th></th>\n      <th>salary</th>\n      <th>sales</th>\n      <th>roe</th>\n      <th>industry</th>\n    </tr>\n  </thead>\n  <tbody>\n    <tr>\n      <th>0</th>\n      <td>1095.0</td>\n      <td>27595.000000</td>\n      <td>14.100000</td>\n      <td>1</td>\n    </tr>\n    <tr>\n      <th>1</th>\n      <td>NaN</td>\n      <td>9958.000000</td>\n      <td>10.900000</td>\n      <td>1</td>\n    </tr>\n    <tr>\n      <th>2</th>\n      <td>NaN</td>\n      <td>6125.899902</td>\n      <td>23.500000</td>\n      <td>1</td>\n    </tr>\n    <tr>\n      <th>3</th>\n      <td>578.0</td>\n      <td>16246.000000</td>\n      <td>5.900000</td>\n      <td>1</td>\n    </tr>\n    <tr>\n      <th>4</th>\n      <td>1368.0</td>\n      <td>NaN</td>\n      <td>13.800000</td>\n      <td>1</td>\n    </tr>\n    <tr>\n      <th>5</th>\n      <td>1145.0</td>\n      <td>NaN</td>\n      <td>20.000000</td>\n      <td>2</td>\n    </tr>\n    <tr>\n      <th>6</th>\n      <td>1078.0</td>\n      <td>2266.699951</td>\n      <td>16.400000</td>\n      <td>2</td>\n    </tr>\n    <tr>\n      <th>7</th>\n      <td>1094.0</td>\n      <td>2966.800049</td>\n      <td>16.299999</td>\n      <td>2</td>\n    </tr>\n    <tr>\n      <th>8</th>\n      <td>1237.0</td>\n      <td>4570.200195</td>\n      <td>10.500000</td>\n      <td>2</td>\n    </tr>\n    <tr>\n      <th>9</th>\n      <td>833.0</td>\n      <td>2830.000000</td>\n      <td>NaN</td>\n      <td>2</td>\n    </tr>\n  </tbody>\n</table>\n</div>"
     },
     "execution_count": 24,
     "metadata": {},
     "output_type": "execute_result"
    }
   ],
   "source": [
    "data_pad = data.fillna(method='pad')\n",
    "data"
   ],
   "metadata": {
    "collapsed": false,
    "pycharm": {
     "name": "#%%\n"
    }
   }
  },
  {
   "cell_type": "markdown",
   "source": [
    "* 결측값을 뒷방향으로 채우기 - df.fillna(method='bfill') or df.fillna(method='backfill')"
   ],
   "metadata": {
    "collapsed": false
   }
  },
  {
   "cell_type": "code",
   "execution_count": 25,
   "outputs": [
    {
     "data": {
      "text/plain": "   salary         sales        roe  industry\n0  1095.0  27595.000000  14.100000         1\n1   578.0   9958.000000  10.900000         1\n2   578.0   6125.899902  23.500000         1\n3   578.0  16246.000000   5.900000         1\n4  1368.0   2266.699951  13.800000         1\n5  1145.0   2266.699951  20.000000         2\n6  1078.0   2266.699951  16.400000         2\n7  1094.0   2966.800049  16.299999         2\n8  1237.0   4570.200195  10.500000         2\n9   833.0   2830.000000        NaN         2",
      "text/html": "<div>\n<style scoped>\n    .dataframe tbody tr th:only-of-type {\n        vertical-align: middle;\n    }\n\n    .dataframe tbody tr th {\n        vertical-align: top;\n    }\n\n    .dataframe thead th {\n        text-align: right;\n    }\n</style>\n<table border=\"1\" class=\"dataframe\">\n  <thead>\n    <tr style=\"text-align: right;\">\n      <th></th>\n      <th>salary</th>\n      <th>sales</th>\n      <th>roe</th>\n      <th>industry</th>\n    </tr>\n  </thead>\n  <tbody>\n    <tr>\n      <th>0</th>\n      <td>1095.0</td>\n      <td>27595.000000</td>\n      <td>14.100000</td>\n      <td>1</td>\n    </tr>\n    <tr>\n      <th>1</th>\n      <td>578.0</td>\n      <td>9958.000000</td>\n      <td>10.900000</td>\n      <td>1</td>\n    </tr>\n    <tr>\n      <th>2</th>\n      <td>578.0</td>\n      <td>6125.899902</td>\n      <td>23.500000</td>\n      <td>1</td>\n    </tr>\n    <tr>\n      <th>3</th>\n      <td>578.0</td>\n      <td>16246.000000</td>\n      <td>5.900000</td>\n      <td>1</td>\n    </tr>\n    <tr>\n      <th>4</th>\n      <td>1368.0</td>\n      <td>2266.699951</td>\n      <td>13.800000</td>\n      <td>1</td>\n    </tr>\n    <tr>\n      <th>5</th>\n      <td>1145.0</td>\n      <td>2266.699951</td>\n      <td>20.000000</td>\n      <td>2</td>\n    </tr>\n    <tr>\n      <th>6</th>\n      <td>1078.0</td>\n      <td>2266.699951</td>\n      <td>16.400000</td>\n      <td>2</td>\n    </tr>\n    <tr>\n      <th>7</th>\n      <td>1094.0</td>\n      <td>2966.800049</td>\n      <td>16.299999</td>\n      <td>2</td>\n    </tr>\n    <tr>\n      <th>8</th>\n      <td>1237.0</td>\n      <td>4570.200195</td>\n      <td>10.500000</td>\n      <td>2</td>\n    </tr>\n    <tr>\n      <th>9</th>\n      <td>833.0</td>\n      <td>2830.000000</td>\n      <td>NaN</td>\n      <td>2</td>\n    </tr>\n  </tbody>\n</table>\n</div>"
     },
     "execution_count": 25,
     "metadata": {},
     "output_type": "execute_result"
    }
   ],
   "source": [
    "data_bfill = data.fillna(method='bfill')\n",
    "data_bfill"
   ],
   "metadata": {
    "collapsed": false,
    "pycharm": {
     "name": "#%%\n"
    }
   }
  },
  {
   "cell_type": "code",
   "execution_count": 26,
   "outputs": [
    {
     "data": {
      "text/plain": "   salary         sales        roe  industry\n0  1095.0  27595.000000  14.100000         1\n1   578.0   9958.000000  10.900000         1\n2   578.0   6125.899902  23.500000         1\n3   578.0  16246.000000   5.900000         1\n4  1368.0   2266.699951  13.800000         1\n5  1145.0   2266.699951  20.000000         2\n6  1078.0   2266.699951  16.400000         2\n7  1094.0   2966.800049  16.299999         2\n8  1237.0   4570.200195  10.500000         2\n9   833.0   2830.000000        NaN         2",
      "text/html": "<div>\n<style scoped>\n    .dataframe tbody tr th:only-of-type {\n        vertical-align: middle;\n    }\n\n    .dataframe tbody tr th {\n        vertical-align: top;\n    }\n\n    .dataframe thead th {\n        text-align: right;\n    }\n</style>\n<table border=\"1\" class=\"dataframe\">\n  <thead>\n    <tr style=\"text-align: right;\">\n      <th></th>\n      <th>salary</th>\n      <th>sales</th>\n      <th>roe</th>\n      <th>industry</th>\n    </tr>\n  </thead>\n  <tbody>\n    <tr>\n      <th>0</th>\n      <td>1095.0</td>\n      <td>27595.000000</td>\n      <td>14.100000</td>\n      <td>1</td>\n    </tr>\n    <tr>\n      <th>1</th>\n      <td>578.0</td>\n      <td>9958.000000</td>\n      <td>10.900000</td>\n      <td>1</td>\n    </tr>\n    <tr>\n      <th>2</th>\n      <td>578.0</td>\n      <td>6125.899902</td>\n      <td>23.500000</td>\n      <td>1</td>\n    </tr>\n    <tr>\n      <th>3</th>\n      <td>578.0</td>\n      <td>16246.000000</td>\n      <td>5.900000</td>\n      <td>1</td>\n    </tr>\n    <tr>\n      <th>4</th>\n      <td>1368.0</td>\n      <td>2266.699951</td>\n      <td>13.800000</td>\n      <td>1</td>\n    </tr>\n    <tr>\n      <th>5</th>\n      <td>1145.0</td>\n      <td>2266.699951</td>\n      <td>20.000000</td>\n      <td>2</td>\n    </tr>\n    <tr>\n      <th>6</th>\n      <td>1078.0</td>\n      <td>2266.699951</td>\n      <td>16.400000</td>\n      <td>2</td>\n    </tr>\n    <tr>\n      <th>7</th>\n      <td>1094.0</td>\n      <td>2966.800049</td>\n      <td>16.299999</td>\n      <td>2</td>\n    </tr>\n    <tr>\n      <th>8</th>\n      <td>1237.0</td>\n      <td>4570.200195</td>\n      <td>10.500000</td>\n      <td>2</td>\n    </tr>\n    <tr>\n      <th>9</th>\n      <td>833.0</td>\n      <td>2830.000000</td>\n      <td>NaN</td>\n      <td>2</td>\n    </tr>\n  </tbody>\n</table>\n</div>"
     },
     "execution_count": 26,
     "metadata": {},
     "output_type": "execute_result"
    }
   ],
   "source": [
    "data_backfill = data.fillna(method='backfill')\n",
    "data_backfill"
   ],
   "metadata": {
    "collapsed": false,
    "pycharm": {
     "name": "#%%\n"
    }
   }
  },
  {
   "cell_type": "markdown",
   "source": [
    "* 결측값 평균 대체 - df.fillna(df.mean()), df.where(pd.notnull(df), df.mean(), axis='columns')"
   ],
   "metadata": {
    "collapsed": false
   }
  },
  {
   "cell_type": "code",
   "execution_count": 27,
   "outputs": [
    {
     "data": {
      "text/plain": "   salary         sales        roe  industry\n0  1095.0  27595.000000  14.100000         1\n1  1053.5   9958.000000  10.900000         1\n2  1053.5   6125.899902  23.500000         1\n3   578.0  16246.000000   5.900000         1\n4  1368.0   9069.825012  13.800000         1\n5  1145.0   9069.825012  20.000000         2\n6  1078.0   2266.699951  16.400000         2\n7  1094.0   2966.800049  16.299999         2\n8  1237.0   4570.200195  10.500000         2\n9   833.0   2830.000000  14.600000         2",
      "text/html": "<div>\n<style scoped>\n    .dataframe tbody tr th:only-of-type {\n        vertical-align: middle;\n    }\n\n    .dataframe tbody tr th {\n        vertical-align: top;\n    }\n\n    .dataframe thead th {\n        text-align: right;\n    }\n</style>\n<table border=\"1\" class=\"dataframe\">\n  <thead>\n    <tr style=\"text-align: right;\">\n      <th></th>\n      <th>salary</th>\n      <th>sales</th>\n      <th>roe</th>\n      <th>industry</th>\n    </tr>\n  </thead>\n  <tbody>\n    <tr>\n      <th>0</th>\n      <td>1095.0</td>\n      <td>27595.000000</td>\n      <td>14.100000</td>\n      <td>1</td>\n    </tr>\n    <tr>\n      <th>1</th>\n      <td>1053.5</td>\n      <td>9958.000000</td>\n      <td>10.900000</td>\n      <td>1</td>\n    </tr>\n    <tr>\n      <th>2</th>\n      <td>1053.5</td>\n      <td>6125.899902</td>\n      <td>23.500000</td>\n      <td>1</td>\n    </tr>\n    <tr>\n      <th>3</th>\n      <td>578.0</td>\n      <td>16246.000000</td>\n      <td>5.900000</td>\n      <td>1</td>\n    </tr>\n    <tr>\n      <th>4</th>\n      <td>1368.0</td>\n      <td>9069.825012</td>\n      <td>13.800000</td>\n      <td>1</td>\n    </tr>\n    <tr>\n      <th>5</th>\n      <td>1145.0</td>\n      <td>9069.825012</td>\n      <td>20.000000</td>\n      <td>2</td>\n    </tr>\n    <tr>\n      <th>6</th>\n      <td>1078.0</td>\n      <td>2266.699951</td>\n      <td>16.400000</td>\n      <td>2</td>\n    </tr>\n    <tr>\n      <th>7</th>\n      <td>1094.0</td>\n      <td>2966.800049</td>\n      <td>16.299999</td>\n      <td>2</td>\n    </tr>\n    <tr>\n      <th>8</th>\n      <td>1237.0</td>\n      <td>4570.200195</td>\n      <td>10.500000</td>\n      <td>2</td>\n    </tr>\n    <tr>\n      <th>9</th>\n      <td>833.0</td>\n      <td>2830.000000</td>\n      <td>14.600000</td>\n      <td>2</td>\n    </tr>\n  </tbody>\n</table>\n</div>"
     },
     "execution_count": 27,
     "metadata": {},
     "output_type": "execute_result"
    }
   ],
   "source": [
    "data_mean = data.fillna(data.mean())\n",
    "data_mean"
   ],
   "metadata": {
    "collapsed": false,
    "pycharm": {
     "name": "#%%\n"
    }
   }
  },
  {
   "cell_type": "code",
   "execution_count": 28,
   "outputs": [
    {
     "data": {
      "text/plain": "   salary         sales        roe  industry\n0  1095.0  27595.000000  14.100000         1\n1  1094.5   9958.000000  10.900000         1\n2  1094.5   6125.899902  23.500000         1\n3   578.0  16246.000000   5.900000         1\n4  1368.0   5348.050049  13.800000         1\n5  1145.0   5348.050049  20.000000         2\n6  1078.0   2266.699951  16.400000         2\n7  1094.0   2966.800049  16.299999         2\n8  1237.0   4570.200195  10.500000         2\n9   833.0   2830.000000  14.100000         2",
      "text/html": "<div>\n<style scoped>\n    .dataframe tbody tr th:only-of-type {\n        vertical-align: middle;\n    }\n\n    .dataframe tbody tr th {\n        vertical-align: top;\n    }\n\n    .dataframe thead th {\n        text-align: right;\n    }\n</style>\n<table border=\"1\" class=\"dataframe\">\n  <thead>\n    <tr style=\"text-align: right;\">\n      <th></th>\n      <th>salary</th>\n      <th>sales</th>\n      <th>roe</th>\n      <th>industry</th>\n    </tr>\n  </thead>\n  <tbody>\n    <tr>\n      <th>0</th>\n      <td>1095.0</td>\n      <td>27595.000000</td>\n      <td>14.100000</td>\n      <td>1</td>\n    </tr>\n    <tr>\n      <th>1</th>\n      <td>1094.5</td>\n      <td>9958.000000</td>\n      <td>10.900000</td>\n      <td>1</td>\n    </tr>\n    <tr>\n      <th>2</th>\n      <td>1094.5</td>\n      <td>6125.899902</td>\n      <td>23.500000</td>\n      <td>1</td>\n    </tr>\n    <tr>\n      <th>3</th>\n      <td>578.0</td>\n      <td>16246.000000</td>\n      <td>5.900000</td>\n      <td>1</td>\n    </tr>\n    <tr>\n      <th>4</th>\n      <td>1368.0</td>\n      <td>5348.050049</td>\n      <td>13.800000</td>\n      <td>1</td>\n    </tr>\n    <tr>\n      <th>5</th>\n      <td>1145.0</td>\n      <td>5348.050049</td>\n      <td>20.000000</td>\n      <td>2</td>\n    </tr>\n    <tr>\n      <th>6</th>\n      <td>1078.0</td>\n      <td>2266.699951</td>\n      <td>16.400000</td>\n      <td>2</td>\n    </tr>\n    <tr>\n      <th>7</th>\n      <td>1094.0</td>\n      <td>2966.800049</td>\n      <td>16.299999</td>\n      <td>2</td>\n    </tr>\n    <tr>\n      <th>8</th>\n      <td>1237.0</td>\n      <td>4570.200195</td>\n      <td>10.500000</td>\n      <td>2</td>\n    </tr>\n    <tr>\n      <th>9</th>\n      <td>833.0</td>\n      <td>2830.000000</td>\n      <td>14.100000</td>\n      <td>2</td>\n    </tr>\n  </tbody>\n</table>\n</div>"
     },
     "execution_count": 28,
     "metadata": {},
     "output_type": "execute_result"
    }
   ],
   "source": [
    "data_median = data.fillna(data.median())\n",
    "data_median"
   ],
   "metadata": {
    "collapsed": false,
    "pycharm": {
     "name": "#%%\n"
    }
   }
  },
  {
   "cell_type": "code",
   "execution_count": 29,
   "outputs": [
    {
     "data": {
      "text/plain": "   salary         sales        roe  industry\n0  1095.0  27595.000000  14.100000         1\n1  1368.0   9958.000000  10.900000         1\n2  1368.0   6125.899902  23.500000         1\n3   578.0  16246.000000   5.900000         1\n4  1368.0  27595.000000  13.800000         1\n5  1145.0  27595.000000  20.000000         2\n6  1078.0   2266.699951  16.400000         2\n7  1094.0   2966.800049  16.299999         2\n8  1237.0   4570.200195  10.500000         2\n9   833.0   2830.000000  23.500000         2",
      "text/html": "<div>\n<style scoped>\n    .dataframe tbody tr th:only-of-type {\n        vertical-align: middle;\n    }\n\n    .dataframe tbody tr th {\n        vertical-align: top;\n    }\n\n    .dataframe thead th {\n        text-align: right;\n    }\n</style>\n<table border=\"1\" class=\"dataframe\">\n  <thead>\n    <tr style=\"text-align: right;\">\n      <th></th>\n      <th>salary</th>\n      <th>sales</th>\n      <th>roe</th>\n      <th>industry</th>\n    </tr>\n  </thead>\n  <tbody>\n    <tr>\n      <th>0</th>\n      <td>1095.0</td>\n      <td>27595.000000</td>\n      <td>14.100000</td>\n      <td>1</td>\n    </tr>\n    <tr>\n      <th>1</th>\n      <td>1368.0</td>\n      <td>9958.000000</td>\n      <td>10.900000</td>\n      <td>1</td>\n    </tr>\n    <tr>\n      <th>2</th>\n      <td>1368.0</td>\n      <td>6125.899902</td>\n      <td>23.500000</td>\n      <td>1</td>\n    </tr>\n    <tr>\n      <th>3</th>\n      <td>578.0</td>\n      <td>16246.000000</td>\n      <td>5.900000</td>\n      <td>1</td>\n    </tr>\n    <tr>\n      <th>4</th>\n      <td>1368.0</td>\n      <td>27595.000000</td>\n      <td>13.800000</td>\n      <td>1</td>\n    </tr>\n    <tr>\n      <th>5</th>\n      <td>1145.0</td>\n      <td>27595.000000</td>\n      <td>20.000000</td>\n      <td>2</td>\n    </tr>\n    <tr>\n      <th>6</th>\n      <td>1078.0</td>\n      <td>2266.699951</td>\n      <td>16.400000</td>\n      <td>2</td>\n    </tr>\n    <tr>\n      <th>7</th>\n      <td>1094.0</td>\n      <td>2966.800049</td>\n      <td>16.299999</td>\n      <td>2</td>\n    </tr>\n    <tr>\n      <th>8</th>\n      <td>1237.0</td>\n      <td>4570.200195</td>\n      <td>10.500000</td>\n      <td>2</td>\n    </tr>\n    <tr>\n      <th>9</th>\n      <td>833.0</td>\n      <td>2830.000000</td>\n      <td>23.500000</td>\n      <td>2</td>\n    </tr>\n  </tbody>\n</table>\n</div>"
     },
     "execution_count": 29,
     "metadata": {},
     "output_type": "execute_result"
    }
   ],
   "source": [
    "data_max = data.fillna(data.max())\n",
    "data_max"
   ],
   "metadata": {
    "collapsed": false,
    "pycharm": {
     "name": "#%%\n"
    }
   }
  },
  {
   "cell_type": "code",
   "execution_count": 30,
   "outputs": [
    {
     "data": {
      "text/plain": "   salary         sales          roe  industry\n0  1095.0  27595.000000    14.100000         1\n1  1053.5   9958.000000    10.900000         1\n2  1053.5   6125.899902    23.500000         1\n3   578.0  16246.000000     5.900000         1\n4  1368.0   1053.500000    13.800000         1\n5  1145.0   1053.500000    20.000000         2\n6  1078.0   2266.699951    16.400000         2\n7  1094.0   2966.800049    16.299999         2\n8  1237.0   4570.200195    10.500000         2\n9   833.0   2830.000000  1053.500000         2",
      "text/html": "<div>\n<style scoped>\n    .dataframe tbody tr th:only-of-type {\n        vertical-align: middle;\n    }\n\n    .dataframe tbody tr th {\n        vertical-align: top;\n    }\n\n    .dataframe thead th {\n        text-align: right;\n    }\n</style>\n<table border=\"1\" class=\"dataframe\">\n  <thead>\n    <tr style=\"text-align: right;\">\n      <th></th>\n      <th>salary</th>\n      <th>sales</th>\n      <th>roe</th>\n      <th>industry</th>\n    </tr>\n  </thead>\n  <tbody>\n    <tr>\n      <th>0</th>\n      <td>1095.0</td>\n      <td>27595.000000</td>\n      <td>14.100000</td>\n      <td>1</td>\n    </tr>\n    <tr>\n      <th>1</th>\n      <td>1053.5</td>\n      <td>9958.000000</td>\n      <td>10.900000</td>\n      <td>1</td>\n    </tr>\n    <tr>\n      <th>2</th>\n      <td>1053.5</td>\n      <td>6125.899902</td>\n      <td>23.500000</td>\n      <td>1</td>\n    </tr>\n    <tr>\n      <th>3</th>\n      <td>578.0</td>\n      <td>16246.000000</td>\n      <td>5.900000</td>\n      <td>1</td>\n    </tr>\n    <tr>\n      <th>4</th>\n      <td>1368.0</td>\n      <td>1053.500000</td>\n      <td>13.800000</td>\n      <td>1</td>\n    </tr>\n    <tr>\n      <th>5</th>\n      <td>1145.0</td>\n      <td>1053.500000</td>\n      <td>20.000000</td>\n      <td>2</td>\n    </tr>\n    <tr>\n      <th>6</th>\n      <td>1078.0</td>\n      <td>2266.699951</td>\n      <td>16.400000</td>\n      <td>2</td>\n    </tr>\n    <tr>\n      <th>7</th>\n      <td>1094.0</td>\n      <td>2966.800049</td>\n      <td>16.299999</td>\n      <td>2</td>\n    </tr>\n    <tr>\n      <th>8</th>\n      <td>1237.0</td>\n      <td>4570.200195</td>\n      <td>10.500000</td>\n      <td>2</td>\n    </tr>\n    <tr>\n      <th>9</th>\n      <td>833.0</td>\n      <td>2830.000000</td>\n      <td>1053.500000</td>\n      <td>2</td>\n    </tr>\n  </tbody>\n</table>\n</div>"
     },
     "execution_count": 30,
     "metadata": {},
     "output_type": "execute_result"
    }
   ],
   "source": [
    "data_other_mean = data.fillna(data.mean()['salary'])\n",
    "data_other_mean"
   ],
   "metadata": {
    "collapsed": false,
    "pycharm": {
     "name": "#%%\n"
    }
   }
  },
  {
   "cell_type": "markdown",
   "source": [
    "* 다른 변수 값으로 대체"
   ],
   "metadata": {
    "collapsed": false
   }
  },
  {
   "cell_type": "code",
   "execution_count": null,
   "outputs": [],
   "source": [
    "import numpy as np\n",
    "data2 = data.copy()\n",
    "data2['sales_new'] = np.where(pd.notnull(data2['sales']) == True, data2['sales'], data2['salary'])"
   ],
   "metadata": {
    "collapsed": false,
    "pycharm": {
     "name": "#%%\n"
    }
   }
  },
  {
   "cell_type": "markdown",
   "source": [
    "* 집단 평균값으로 대체"
   ],
   "metadata": {
    "collapsed": false
   }
  },
  {
   "cell_type": "code",
   "execution_count": 31,
   "outputs": [
    {
     "data": {
      "text/plain": "               salary         sales    roe\nindustry                                  \n1         1013.666667  14981.224976  13.64\n2         1077.400000   3158.425049  15.80",
      "text/html": "<div>\n<style scoped>\n    .dataframe tbody tr th:only-of-type {\n        vertical-align: middle;\n    }\n\n    .dataframe tbody tr th {\n        vertical-align: top;\n    }\n\n    .dataframe thead th {\n        text-align: right;\n    }\n</style>\n<table border=\"1\" class=\"dataframe\">\n  <thead>\n    <tr style=\"text-align: right;\">\n      <th></th>\n      <th>salary</th>\n      <th>sales</th>\n      <th>roe</th>\n    </tr>\n    <tr>\n      <th>industry</th>\n      <th></th>\n      <th></th>\n      <th></th>\n    </tr>\n  </thead>\n  <tbody>\n    <tr>\n      <th>1</th>\n      <td>1013.666667</td>\n      <td>14981.224976</td>\n      <td>13.64</td>\n    </tr>\n    <tr>\n      <th>2</th>\n      <td>1077.400000</td>\n      <td>3158.425049</td>\n      <td>15.80</td>\n    </tr>\n  </tbody>\n</table>\n</div>"
     },
     "execution_count": 31,
     "metadata": {},
     "output_type": "execute_result"
    }
   ],
   "source": [
    "data.groupby('industry').mean()"
   ],
   "metadata": {
    "collapsed": false,
    "pycharm": {
     "name": "#%%\n"
    }
   }
  },
  {
   "cell_type": "markdown",
   "source": [
    "* lambda 함수 -> 평균으로 대체하는 함수 생성"
   ],
   "metadata": {
    "collapsed": false
   }
  },
  {
   "cell_type": "code",
   "execution_count": 32,
   "outputs": [],
   "source": [
    "fill_mean_func = lambda g: g.fillna(g.mean())"
   ],
   "metadata": {
    "collapsed": false,
    "pycharm": {
     "name": "#%%\n"
    }
   }
  },
  {
   "cell_type": "code",
   "execution_count": 33,
   "outputs": [
    {
     "data": {
      "text/plain": "                 salary         sales        roe  industry\nindustry                                                  \n1        0  1095.000000  27595.000000  14.100000         1\n         1  1013.666667   9958.000000  10.900000         1\n         2  1013.666667   6125.899902  23.500000         1\n         3   578.000000  16246.000000   5.900000         1\n         4  1368.000000  14981.224975  13.800000         1\n2        5  1145.000000   3158.425049  20.000000         2\n         6  1078.000000   2266.699951  16.400000         2\n         7  1094.000000   2966.800049  16.299999         2\n         8  1237.000000   4570.200195  10.500000         2\n         9   833.000000   2830.000000  15.800000         2",
      "text/html": "<div>\n<style scoped>\n    .dataframe tbody tr th:only-of-type {\n        vertical-align: middle;\n    }\n\n    .dataframe tbody tr th {\n        vertical-align: top;\n    }\n\n    .dataframe thead th {\n        text-align: right;\n    }\n</style>\n<table border=\"1\" class=\"dataframe\">\n  <thead>\n    <tr style=\"text-align: right;\">\n      <th></th>\n      <th></th>\n      <th>salary</th>\n      <th>sales</th>\n      <th>roe</th>\n      <th>industry</th>\n    </tr>\n    <tr>\n      <th>industry</th>\n      <th></th>\n      <th></th>\n      <th></th>\n      <th></th>\n      <th></th>\n    </tr>\n  </thead>\n  <tbody>\n    <tr>\n      <th rowspan=\"5\" valign=\"top\">1</th>\n      <th>0</th>\n      <td>1095.000000</td>\n      <td>27595.000000</td>\n      <td>14.100000</td>\n      <td>1</td>\n    </tr>\n    <tr>\n      <th>1</th>\n      <td>1013.666667</td>\n      <td>9958.000000</td>\n      <td>10.900000</td>\n      <td>1</td>\n    </tr>\n    <tr>\n      <th>2</th>\n      <td>1013.666667</td>\n      <td>6125.899902</td>\n      <td>23.500000</td>\n      <td>1</td>\n    </tr>\n    <tr>\n      <th>3</th>\n      <td>578.000000</td>\n      <td>16246.000000</td>\n      <td>5.900000</td>\n      <td>1</td>\n    </tr>\n    <tr>\n      <th>4</th>\n      <td>1368.000000</td>\n      <td>14981.224975</td>\n      <td>13.800000</td>\n      <td>1</td>\n    </tr>\n    <tr>\n      <th rowspan=\"5\" valign=\"top\">2</th>\n      <th>5</th>\n      <td>1145.000000</td>\n      <td>3158.425049</td>\n      <td>20.000000</td>\n      <td>2</td>\n    </tr>\n    <tr>\n      <th>6</th>\n      <td>1078.000000</td>\n      <td>2266.699951</td>\n      <td>16.400000</td>\n      <td>2</td>\n    </tr>\n    <tr>\n      <th>7</th>\n      <td>1094.000000</td>\n      <td>2966.800049</td>\n      <td>16.299999</td>\n      <td>2</td>\n    </tr>\n    <tr>\n      <th>8</th>\n      <td>1237.000000</td>\n      <td>4570.200195</td>\n      <td>10.500000</td>\n      <td>2</td>\n    </tr>\n    <tr>\n      <th>9</th>\n      <td>833.000000</td>\n      <td>2830.000000</td>\n      <td>15.800000</td>\n      <td>2</td>\n    </tr>\n  </tbody>\n</table>\n</div>"
     },
     "execution_count": 33,
     "metadata": {},
     "output_type": "execute_result"
    }
   ],
   "source": [
    "data_group_mean = data.groupby('industry').apply(fill_mean_func)\n",
    "data_group_mean"
   ],
   "metadata": {
    "collapsed": false,
    "pycharm": {
     "name": "#%%\n"
    }
   }
  },
  {
   "cell_type": "code",
   "execution_count": 34,
   "outputs": [],
   "source": [
    "fill_values = {1: 1000, 2:2000}"
   ],
   "metadata": {
    "collapsed": false,
    "pycharm": {
     "name": "#%%\n"
    }
   }
  },
  {
   "cell_type": "code",
   "execution_count": 35,
   "outputs": [],
   "source": [
    "fill_func = lambda d: d.fillna(fill_values[d.name])"
   ],
   "metadata": {
    "collapsed": false,
    "pycharm": {
     "name": "#%%\n"
    }
   }
  },
  {
   "cell_type": "code",
   "execution_count": 37,
   "outputs": [
    {
     "data": {
      "text/plain": "   salary         sales          roe  industry\n0  1095.0  27595.000000    14.100000         1\n1  1000.0   9958.000000    10.900000         1\n2  1000.0   6125.899902    23.500000         1\n3   578.0  16246.000000     5.900000         1\n4  1368.0   1000.000000    13.800000         1\n5  1145.0   2000.000000    20.000000         2\n6  1078.0   2266.699951    16.400000         2\n7  1094.0   2966.800049    16.299999         2\n8  1237.0   4570.200195    10.500000         2\n9   833.0   2830.000000  2000.000000         2",
      "text/html": "<div>\n<style scoped>\n    .dataframe tbody tr th:only-of-type {\n        vertical-align: middle;\n    }\n\n    .dataframe tbody tr th {\n        vertical-align: top;\n    }\n\n    .dataframe thead th {\n        text-align: right;\n    }\n</style>\n<table border=\"1\" class=\"dataframe\">\n  <thead>\n    <tr style=\"text-align: right;\">\n      <th></th>\n      <th>salary</th>\n      <th>sales</th>\n      <th>roe</th>\n      <th>industry</th>\n    </tr>\n  </thead>\n  <tbody>\n    <tr>\n      <th>0</th>\n      <td>1095.0</td>\n      <td>27595.000000</td>\n      <td>14.100000</td>\n      <td>1</td>\n    </tr>\n    <tr>\n      <th>1</th>\n      <td>1000.0</td>\n      <td>9958.000000</td>\n      <td>10.900000</td>\n      <td>1</td>\n    </tr>\n    <tr>\n      <th>2</th>\n      <td>1000.0</td>\n      <td>6125.899902</td>\n      <td>23.500000</td>\n      <td>1</td>\n    </tr>\n    <tr>\n      <th>3</th>\n      <td>578.0</td>\n      <td>16246.000000</td>\n      <td>5.900000</td>\n      <td>1</td>\n    </tr>\n    <tr>\n      <th>4</th>\n      <td>1368.0</td>\n      <td>1000.000000</td>\n      <td>13.800000</td>\n      <td>1</td>\n    </tr>\n    <tr>\n      <th>5</th>\n      <td>1145.0</td>\n      <td>2000.000000</td>\n      <td>20.000000</td>\n      <td>2</td>\n    </tr>\n    <tr>\n      <th>6</th>\n      <td>1078.0</td>\n      <td>2266.699951</td>\n      <td>16.400000</td>\n      <td>2</td>\n    </tr>\n    <tr>\n      <th>7</th>\n      <td>1094.0</td>\n      <td>2966.800049</td>\n      <td>16.299999</td>\n      <td>2</td>\n    </tr>\n    <tr>\n      <th>8</th>\n      <td>1237.0</td>\n      <td>4570.200195</td>\n      <td>10.500000</td>\n      <td>2</td>\n    </tr>\n    <tr>\n      <th>9</th>\n      <td>833.0</td>\n      <td>2830.000000</td>\n      <td>2000.000000</td>\n      <td>2</td>\n    </tr>\n  </tbody>\n</table>\n</div>"
     },
     "execution_count": 37,
     "metadata": {},
     "output_type": "execute_result"
    }
   ],
   "source": [
    "data_group_value = data.groupby('industry').apply(fill_func)\n",
    "data_group_value"
   ],
   "metadata": {
    "collapsed": false,
    "pycharm": {
     "name": "#%%\n"
    }
   }
  },
  {
   "cell_type": "code",
   "execution_count": 38,
   "outputs": [
    {
     "data": {
      "text/plain": "   salary         sales        roe  industry\n0  1095.0  27595.000000  14.100000         1\n1     NaN   9958.000000  10.900000         1\n2     NaN   6125.899902  23.500000         1\n3   578.0  16246.000000   5.900000         1\n4  1368.0           NaN  13.800000         1\n5  1145.0           NaN  20.000000         2\n6  1078.0   2266.699951  16.400000         2\n7  1094.0   2966.800049  16.299999         2\n8  1237.0   4570.200195  10.500000         2\n9   833.0   2830.000000        NaN         2",
      "text/html": "<div>\n<style scoped>\n    .dataframe tbody tr th:only-of-type {\n        vertical-align: middle;\n    }\n\n    .dataframe tbody tr th {\n        vertical-align: top;\n    }\n\n    .dataframe thead th {\n        text-align: right;\n    }\n</style>\n<table border=\"1\" class=\"dataframe\">\n  <thead>\n    <tr style=\"text-align: right;\">\n      <th></th>\n      <th>salary</th>\n      <th>sales</th>\n      <th>roe</th>\n      <th>industry</th>\n    </tr>\n  </thead>\n  <tbody>\n    <tr>\n      <th>0</th>\n      <td>1095.0</td>\n      <td>27595.000000</td>\n      <td>14.100000</td>\n      <td>1</td>\n    </tr>\n    <tr>\n      <th>1</th>\n      <td>NaN</td>\n      <td>9958.000000</td>\n      <td>10.900000</td>\n      <td>1</td>\n    </tr>\n    <tr>\n      <th>2</th>\n      <td>NaN</td>\n      <td>6125.899902</td>\n      <td>23.500000</td>\n      <td>1</td>\n    </tr>\n    <tr>\n      <th>3</th>\n      <td>578.0</td>\n      <td>16246.000000</td>\n      <td>5.900000</td>\n      <td>1</td>\n    </tr>\n    <tr>\n      <th>4</th>\n      <td>1368.0</td>\n      <td>NaN</td>\n      <td>13.800000</td>\n      <td>1</td>\n    </tr>\n    <tr>\n      <th>5</th>\n      <td>1145.0</td>\n      <td>NaN</td>\n      <td>20.000000</td>\n      <td>2</td>\n    </tr>\n    <tr>\n      <th>6</th>\n      <td>1078.0</td>\n      <td>2266.699951</td>\n      <td>16.400000</td>\n      <td>2</td>\n    </tr>\n    <tr>\n      <th>7</th>\n      <td>1094.0</td>\n      <td>2966.800049</td>\n      <td>16.299999</td>\n      <td>2</td>\n    </tr>\n    <tr>\n      <th>8</th>\n      <td>1237.0</td>\n      <td>4570.200195</td>\n      <td>10.500000</td>\n      <td>2</td>\n    </tr>\n    <tr>\n      <th>9</th>\n      <td>833.0</td>\n      <td>2830.000000</td>\n      <td>NaN</td>\n      <td>2</td>\n    </tr>\n  </tbody>\n</table>\n</div>"
     },
     "execution_count": 38,
     "metadata": {},
     "output_type": "execute_result"
    }
   ],
   "source": [
    "data"
   ],
   "metadata": {
    "collapsed": false,
    "pycharm": {
     "name": "#%%\n"
    }
   }
  },
  {
   "cell_type": "markdown",
   "source": [
    "* 변수별로 다른 대체방법 사용하기"
   ],
   "metadata": {
    "collapsed": false
   }
  },
  {
   "cell_type": "code",
   "execution_count": 39,
   "outputs": [
    {
     "name": "stdout",
     "output_type": "stream",
     "text": [
      "{'salary': 0    1095.000000\n",
      "1     922.666667\n",
      "2     750.333333\n",
      "3     578.000000\n",
      "4    1368.000000\n",
      "5    1145.000000\n",
      "6    1078.000000\n",
      "7    1094.000000\n",
      "8    1237.000000\n",
      "9     833.000000\n",
      "Name: salary, dtype: float64, 'sales': 9069.825012125, 'roe': 'missing'}\n"
     ]
    }
   ],
   "source": [
    "missing_fill_val = {\n",
    "    'salary': data.salary.interpolate(),\n",
    "    'sales': data.sales.mean(),\n",
    "    'roe': 'missing'\n",
    "}\n",
    "print(missing_fill_val)"
   ],
   "metadata": {
    "collapsed": false,
    "pycharm": {
     "name": "#%%\n"
    }
   }
  },
  {
   "cell_type": "code",
   "execution_count": 40,
   "outputs": [
    {
     "data": {
      "text/plain": "        salary         sales        roe  industry\n0  1095.000000  27595.000000       14.1         1\n1   922.666667   9958.000000       10.9         1\n2   750.333333   6125.899902       23.5         1\n3   578.000000  16246.000000        5.9         1\n4  1368.000000   9069.825012       13.8         1\n5  1145.000000   9069.825012       20.0         2\n6  1078.000000   2266.699951       16.4         2\n7  1094.000000   2966.800049  16.299999         2\n8  1237.000000   4570.200195       10.5         2\n9   833.000000   2830.000000    missing         2",
      "text/html": "<div>\n<style scoped>\n    .dataframe tbody tr th:only-of-type {\n        vertical-align: middle;\n    }\n\n    .dataframe tbody tr th {\n        vertical-align: top;\n    }\n\n    .dataframe thead th {\n        text-align: right;\n    }\n</style>\n<table border=\"1\" class=\"dataframe\">\n  <thead>\n    <tr style=\"text-align: right;\">\n      <th></th>\n      <th>salary</th>\n      <th>sales</th>\n      <th>roe</th>\n      <th>industry</th>\n    </tr>\n  </thead>\n  <tbody>\n    <tr>\n      <th>0</th>\n      <td>1095.000000</td>\n      <td>27595.000000</td>\n      <td>14.1</td>\n      <td>1</td>\n    </tr>\n    <tr>\n      <th>1</th>\n      <td>922.666667</td>\n      <td>9958.000000</td>\n      <td>10.9</td>\n      <td>1</td>\n    </tr>\n    <tr>\n      <th>2</th>\n      <td>750.333333</td>\n      <td>6125.899902</td>\n      <td>23.5</td>\n      <td>1</td>\n    </tr>\n    <tr>\n      <th>3</th>\n      <td>578.000000</td>\n      <td>16246.000000</td>\n      <td>5.9</td>\n      <td>1</td>\n    </tr>\n    <tr>\n      <th>4</th>\n      <td>1368.000000</td>\n      <td>9069.825012</td>\n      <td>13.8</td>\n      <td>1</td>\n    </tr>\n    <tr>\n      <th>5</th>\n      <td>1145.000000</td>\n      <td>9069.825012</td>\n      <td>20.0</td>\n      <td>2</td>\n    </tr>\n    <tr>\n      <th>6</th>\n      <td>1078.000000</td>\n      <td>2266.699951</td>\n      <td>16.4</td>\n      <td>2</td>\n    </tr>\n    <tr>\n      <th>7</th>\n      <td>1094.000000</td>\n      <td>2966.800049</td>\n      <td>16.299999</td>\n      <td>2</td>\n    </tr>\n    <tr>\n      <th>8</th>\n      <td>1237.000000</td>\n      <td>4570.200195</td>\n      <td>10.5</td>\n      <td>2</td>\n    </tr>\n    <tr>\n      <th>9</th>\n      <td>833.000000</td>\n      <td>2830.000000</td>\n      <td>missing</td>\n      <td>2</td>\n    </tr>\n  </tbody>\n</table>\n</div>"
     },
     "execution_count": 40,
     "metadata": {},
     "output_type": "execute_result"
    }
   ],
   "source": [
    "data_multi = data.fillna(missing_fill_val)\n",
    "data_multi"
   ],
   "metadata": {
    "collapsed": false,
    "pycharm": {
     "name": "#%%\n"
    }
   }
  },
  {
   "cell_type": "code",
   "execution_count": null,
   "outputs": [],
   "source": [],
   "metadata": {
    "collapsed": false,
    "pycharm": {
     "name": "#%%\n"
    }
   }
  }
 ],
 "metadata": {
  "kernelspec": {
   "display_name": "Python 3",
   "language": "python",
   "name": "python3"
  },
  "language_info": {
   "codemirror_mode": {
    "name": "ipython",
    "version": 2
   },
   "file_extension": ".py",
   "mimetype": "text/x-python",
   "name": "python",
   "nbconvert_exporter": "python",
   "pygments_lexer": "ipython2",
   "version": "2.7.6"
  }
 },
 "nbformat": 4,
 "nbformat_minor": 0
}