{
 "cells": [
  {
   "cell_type": "markdown",
   "source": [
    "# 5. 머신러닝 프로세스\n",
    "\n",
    "데이터셋 분할과 모델 검증"
   ],
   "metadata": {
    "collapsed": false
   }
  },
  {
   "cell_type": "markdown",
   "source": [
    "## 1. x, y 나누기"
   ],
   "metadata": {
    "collapsed": false
   }
  },
  {
   "cell_type": "code",
   "execution_count": 1,
   "metadata": {
    "collapsed": true
   },
   "outputs": [],
   "source": [
    "import warnings\n",
    "warnings.filterwarnings(\"ignore\")"
   ]
  },
  {
   "cell_type": "code",
   "execution_count": 2,
   "outputs": [],
   "source": [
    "import pandas as pd"
   ],
   "metadata": {
    "collapsed": false,
    "pycharm": {
     "name": "#%%\n"
    }
   }
  },
  {
   "cell_type": "code",
   "execution_count": 3,
   "outputs": [
    {
     "data": {
      "text/plain": "   gender_female  gender_male  region_Chungcheung  region_Honam  \\\n0              0            1                   0             0   \n1              0            1                   0             0   \n2              0            1                   0             1   \n3              1            0                   0             0   \n4              0            1                   0             0   \n\n   region_Others  region_Sudo  region_Youngnam  edu  income  age  score_gov  \\\n0              0            0                1    3       3    3          2   \n1              1            0                0    2       3    3          2   \n2              0            0                0    1       2    4          1   \n3              0            1                0    2       1    3          5   \n4              0            1                0    1       2    4          4   \n\n   score_progress  score_intention  vote  parties  \n0               2              4.0     1        2  \n1               4              3.0     0        3  \n2               3              2.8     1        4  \n3               4              2.6     1        1  \n4               3              2.4     1        1  ",
      "text/html": "<div>\n<style scoped>\n    .dataframe tbody tr th:only-of-type {\n        vertical-align: middle;\n    }\n\n    .dataframe tbody tr th {\n        vertical-align: top;\n    }\n\n    .dataframe thead th {\n        text-align: right;\n    }\n</style>\n<table border=\"1\" class=\"dataframe\">\n  <thead>\n    <tr style=\"text-align: right;\">\n      <th></th>\n      <th>gender_female</th>\n      <th>gender_male</th>\n      <th>region_Chungcheung</th>\n      <th>region_Honam</th>\n      <th>region_Others</th>\n      <th>region_Sudo</th>\n      <th>region_Youngnam</th>\n      <th>edu</th>\n      <th>income</th>\n      <th>age</th>\n      <th>score_gov</th>\n      <th>score_progress</th>\n      <th>score_intention</th>\n      <th>vote</th>\n      <th>parties</th>\n    </tr>\n  </thead>\n  <tbody>\n    <tr>\n      <th>0</th>\n      <td>0</td>\n      <td>1</td>\n      <td>0</td>\n      <td>0</td>\n      <td>0</td>\n      <td>0</td>\n      <td>1</td>\n      <td>3</td>\n      <td>3</td>\n      <td>3</td>\n      <td>2</td>\n      <td>2</td>\n      <td>4.0</td>\n      <td>1</td>\n      <td>2</td>\n    </tr>\n    <tr>\n      <th>1</th>\n      <td>0</td>\n      <td>1</td>\n      <td>0</td>\n      <td>0</td>\n      <td>1</td>\n      <td>0</td>\n      <td>0</td>\n      <td>2</td>\n      <td>3</td>\n      <td>3</td>\n      <td>2</td>\n      <td>4</td>\n      <td>3.0</td>\n      <td>0</td>\n      <td>3</td>\n    </tr>\n    <tr>\n      <th>2</th>\n      <td>0</td>\n      <td>1</td>\n      <td>0</td>\n      <td>1</td>\n      <td>0</td>\n      <td>0</td>\n      <td>0</td>\n      <td>1</td>\n      <td>2</td>\n      <td>4</td>\n      <td>1</td>\n      <td>3</td>\n      <td>2.8</td>\n      <td>1</td>\n      <td>4</td>\n    </tr>\n    <tr>\n      <th>3</th>\n      <td>1</td>\n      <td>0</td>\n      <td>0</td>\n      <td>0</td>\n      <td>0</td>\n      <td>1</td>\n      <td>0</td>\n      <td>2</td>\n      <td>1</td>\n      <td>3</td>\n      <td>5</td>\n      <td>4</td>\n      <td>2.6</td>\n      <td>1</td>\n      <td>1</td>\n    </tr>\n    <tr>\n      <th>4</th>\n      <td>0</td>\n      <td>1</td>\n      <td>0</td>\n      <td>0</td>\n      <td>0</td>\n      <td>1</td>\n      <td>0</td>\n      <td>1</td>\n      <td>2</td>\n      <td>4</td>\n      <td>4</td>\n      <td>3</td>\n      <td>2.4</td>\n      <td>1</td>\n      <td>1</td>\n    </tr>\n  </tbody>\n</table>\n</div>"
     },
     "execution_count": 3,
     "metadata": {},
     "output_type": "execute_result"
    }
   ],
   "source": [
    "data = pd.read_csv('./../../data/bigboongi/Fvote.csv', encoding='utf-8')\n",
    "data.head()"
   ],
   "metadata": {
    "collapsed": false,
    "pycharm": {
     "name": "#%%\n"
    }
   }
  },
  {
   "cell_type": "code",
   "execution_count": 4,
   "outputs": [],
   "source": [
    "X = data[data.columns[0:13]]  # X = data.loc[:, 'gender_female':'score_intention']\n",
    "y = data[['vote']]"
   ],
   "metadata": {
    "collapsed": false,
    "pycharm": {
     "name": "#%%\n"
    }
   }
  },
  {
   "cell_type": "markdown",
   "source": [
    "## 2. train-test 데이터셋 나누기"
   ],
   "metadata": {
    "collapsed": false
   }
  },
  {
   "cell_type": "code",
   "execution_count": 5,
   "outputs": [],
   "source": [
    "from sklearn.model_selection import train_test_split\n",
    "\n",
    "X_train, X_test, y_train, y_test = train_test_split(X, y, stratify=y, random_state=42)"
   ],
   "metadata": {
    "collapsed": false,
    "pycharm": {
     "name": "#%%\n"
    }
   }
  },
  {
   "cell_type": "code",
   "execution_count": 6,
   "outputs": [
    {
     "name": "stdout",
     "output_type": "stream",
     "text": [
      "(158, 13)\n",
      "(53, 13)\n"
     ]
    }
   ],
   "source": [
    "print(X_train.shape)\n",
    "print(X_test.shape)"
   ],
   "metadata": {
    "collapsed": false,
    "pycharm": {
     "name": "#%%\n"
    }
   }
  },
  {
   "cell_type": "markdown",
   "source": [
    "## 3. 모델 적용"
   ],
   "metadata": {
    "collapsed": false
   }
  },
  {
   "cell_type": "code",
   "execution_count": 7,
   "outputs": [],
   "source": [
    "from sklearn.linear_model import LogisticRegression\n",
    "model = LogisticRegression()"
   ],
   "metadata": {
    "collapsed": false,
    "pycharm": {
     "name": "#%%\n"
    }
   }
  },
  {
   "cell_type": "markdown",
   "source": [
    "### 가. 랜덤 없는 교차검증 cross_val_score\n",
    "\n",
    "train data를 모두 한 번에 사용하지 않고 k개의 그룹으로 나누어 이 중 한 그룹을 빼고 k-1개의 그룹만 훈련을 함. 이걸 k번 반복."
   ],
   "metadata": {
    "collapsed": false
   }
  },
  {
   "cell_type": "code",
   "execution_count": 8,
   "outputs": [
    {
     "name": "stdout",
     "output_type": "stream",
     "text": [
      "5개 테스트셋 정확도: [0.71875    0.6875     0.8125     0.58064516 0.80645161]\n",
      "정확도 평균: 0.7211693548387096\n"
     ]
    }
   ],
   "source": [
    "from sklearn.model_selection import cross_val_score\n",
    "\n",
    "scores = cross_val_score(model, X_train, y_train, cv=5)\n",
    "print('5개 테스트셋 정확도:', scores)\n",
    "print('정확도 평균:', scores.mean())"
   ],
   "metadata": {
    "collapsed": false,
    "pycharm": {
     "name": "#%%\n"
    }
   }
  },
  {
   "cell_type": "markdown",
   "source": [
    "### 나. 랜덤 있는 교차검증 K-Fold\n",
    "\n",
    "cross_val은 데이터셋의 순서가 있는 그대로 나눔\n",
    "K-Fold는 훈련데이터에서 그룹을 나눌 때부터 랜덤(무작위 추출)하듯 섞는(shuffle) 방법을 이용 -> 표본이 섞여서 뽑힘. 편향성이 적음."
   ],
   "metadata": {
    "collapsed": false
   }
  },
  {
   "cell_type": "code",
   "execution_count": 10,
   "outputs": [
    {
     "name": "stdout",
     "output_type": "stream",
     "text": [
      "5개 폴드의 정확도:  [0.71875    0.6875     0.625      0.70967742 0.77419355]\n",
      "정확도 평균:  0.7030241935483872\n"
     ]
    }
   ],
   "source": [
    "from sklearn.model_selection import KFold\n",
    "\n",
    "kfold = KFold(n_splits=5, shuffle=True, random_state=42)\n",
    "scores = cross_val_score(model, X_train, y_train, cv=kfold)\n",
    "print('5개 폴드의 정확도: ', scores)\n",
    "print('정확도 평균: ', scores.mean())"
   ],
   "metadata": {
    "collapsed": false,
    "pycharm": {
     "name": "#%%\n"
    }
   }
  },
  {
   "cell_type": "markdown",
   "source": [
    "### 3. 임의분할 교차검증\n",
    "\n",
    "훈련데이터와 테스트 데이터를 구성할 때 다른 교차 검증에 사용되었던 데이터도 랜덤으로 선택되게 하는 방법\n",
    "전체 데이터 중 일부는 훈련데이터 또는 테스트데이터 어디에서 선택되지 않을 수도 있음(앞서 cross_val, KFold는 한 번이라도 훈련에 사용됨)"
   ],
   "metadata": {
    "collapsed": false
   }
  },
  {
   "cell_type": "code",
   "execution_count": 11,
   "outputs": [
    {
     "name": "stdout",
     "output_type": "stream",
     "text": [
      "교차검증 정확도:  [0.73417722 0.69620253 0.70886076 0.73417722 0.65822785 0.67088608\n",
      " 0.72151899 0.65822785 0.69620253 0.70886076]\n",
      "정확도 평균:  0.6987341772151898\n"
     ]
    }
   ],
   "source": [
    "from sklearn.model_selection import ShuffleSplit\n",
    "\n",
    "shuffle_split = ShuffleSplit(test_size=0.5, train_size=0.5, random_state=42)\n",
    "scores = cross_val_score(model, X_train, y_train, cv=shuffle_split)\n",
    "print('교차검증 정확도: ', scores)\n",
    "print('정확도 평균: ', scores.mean())"
   ],
   "metadata": {
    "collapsed": false,
    "pycharm": {
     "name": "#%%\n"
    }
   }
  },
  {
   "cell_type": "markdown",
   "source": [
    "### 4. train-validity-test 분할과 교차검증\n",
    "\n",
    "valid data도 나누어봄.\n",
    "우선 train과 test로 나누고, train 데이터를 다시 train과 valid로 나눔. 7:3"
   ],
   "metadata": {
    "collapsed": false
   }
  },
  {
   "cell_type": "code",
   "execution_count": 12,
   "outputs": [],
   "source": [
    "from sklearn.model_selection import train_test_split\n",
    "\n",
    "X_train_val, X_test, y_train_val, y_test = train_test_split(X, y, random_state=1)\n",
    "X_train, X_valid, y_train, y_valid = train_test_split(X_train_val, y_train_val, random_state=2)"
   ],
   "metadata": {
    "collapsed": false,
    "pycharm": {
     "name": "#%%\n"
    }
   }
  },
  {
   "cell_type": "code",
   "execution_count": 13,
   "outputs": [
    {
     "name": "stdout",
     "output_type": "stream",
     "text": [
      "교차검증 정확도:  [0.58333333 0.66666667 0.70833333 0.65217391 0.65217391]\n",
      "정확도 평균:  0.652536231884058\n"
     ]
    }
   ],
   "source": [
    "# 모델 훈련\n",
    "model.fit(X_train, y_train)\n",
    "scores = cross_val_score(model, X_train, y_train, cv=5)\n",
    "print('교차검증 정확도: ', scores)\n",
    "print('정확도 평균: ', scores.mean())"
   ],
   "metadata": {
    "collapsed": false,
    "pycharm": {
     "name": "#%%\n"
    }
   }
  },
  {
   "cell_type": "code",
   "execution_count": 14,
   "outputs": [
    {
     "data": {
      "text/plain": "0.65"
     },
     "execution_count": 14,
     "metadata": {},
     "output_type": "execute_result"
    }
   ],
   "source": [
    "model.score(X_valid, y_valid)"
   ],
   "metadata": {
    "collapsed": false,
    "pycharm": {
     "name": "#%%\n"
    }
   }
  },
  {
   "cell_type": "code",
   "execution_count": 15,
   "outputs": [
    {
     "data": {
      "text/plain": "0.6981132075471698"
     },
     "execution_count": 15,
     "metadata": {},
     "output_type": "execute_result"
    }
   ],
   "source": [
    "model.score(X_test, y_test)"
   ],
   "metadata": {
    "collapsed": false,
    "pycharm": {
     "name": "#%%\n"
    }
   }
  },
  {
   "cell_type": "code",
   "execution_count": null,
   "outputs": [],
   "source": [],
   "metadata": {
    "collapsed": false,
    "pycharm": {
     "name": "#%%\n"
    }
   }
  }
 ],
 "metadata": {
  "kernelspec": {
   "display_name": "Python 3",
   "language": "python",
   "name": "python3"
  },
  "language_info": {
   "codemirror_mode": {
    "name": "ipython",
    "version": 2
   },
   "file_extension": ".py",
   "mimetype": "text/x-python",
   "name": "python",
   "nbconvert_exporter": "python",
   "pygments_lexer": "ipython2",
   "version": "2.7.6"
  }
 },
 "nbformat": 4,
 "nbformat_minor": 0
}