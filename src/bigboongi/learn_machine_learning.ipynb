{
 "cells": [
  {
   "cell_type": "markdown",
   "source": [
    "### 분석 데이터 검토"
   ],
   "metadata": {
    "collapsed": false
   }
  },
  {
   "cell_type": "code",
   "execution_count": 5,
   "metadata": {
    "collapsed": true
   },
   "outputs": [
    {
     "data": {
      "text/plain": "      code  Clump_Thickness  Cell_Size  Cell_Shape  Marginal_Adhesion  \\\n0  1000025                5          1           1                  1   \n1  1002945                5          4           4                  5   \n2  1015425                3          1           1                  1   \n3  1016277                6          8           8                  1   \n4  1017023                4          1           1                  3   \n\n   Single_Epithelial_Cell_Size  Bare_Nuclei  Bland_Chromatin  Normal_Nucleoli  \\\n0                            2            1                3                1   \n1                            7           10                3                2   \n2                            2            2                3                1   \n3                            3            4                3                7   \n4                            2            1                3                1   \n\n   Mitoses  Class  \n0        1      0  \n1        1      0  \n2        1      0  \n3        1      0  \n4        1      0  ",
      "text/html": "<div>\n<style scoped>\n    .dataframe tbody tr th:only-of-type {\n        vertical-align: middle;\n    }\n\n    .dataframe tbody tr th {\n        vertical-align: top;\n    }\n\n    .dataframe thead th {\n        text-align: right;\n    }\n</style>\n<table border=\"1\" class=\"dataframe\">\n  <thead>\n    <tr style=\"text-align: right;\">\n      <th></th>\n      <th>code</th>\n      <th>Clump_Thickness</th>\n      <th>Cell_Size</th>\n      <th>Cell_Shape</th>\n      <th>Marginal_Adhesion</th>\n      <th>Single_Epithelial_Cell_Size</th>\n      <th>Bare_Nuclei</th>\n      <th>Bland_Chromatin</th>\n      <th>Normal_Nucleoli</th>\n      <th>Mitoses</th>\n      <th>Class</th>\n    </tr>\n  </thead>\n  <tbody>\n    <tr>\n      <th>0</th>\n      <td>1000025</td>\n      <td>5</td>\n      <td>1</td>\n      <td>1</td>\n      <td>1</td>\n      <td>2</td>\n      <td>1</td>\n      <td>3</td>\n      <td>1</td>\n      <td>1</td>\n      <td>0</td>\n    </tr>\n    <tr>\n      <th>1</th>\n      <td>1002945</td>\n      <td>5</td>\n      <td>4</td>\n      <td>4</td>\n      <td>5</td>\n      <td>7</td>\n      <td>10</td>\n      <td>3</td>\n      <td>2</td>\n      <td>1</td>\n      <td>0</td>\n    </tr>\n    <tr>\n      <th>2</th>\n      <td>1015425</td>\n      <td>3</td>\n      <td>1</td>\n      <td>1</td>\n      <td>1</td>\n      <td>2</td>\n      <td>2</td>\n      <td>3</td>\n      <td>1</td>\n      <td>1</td>\n      <td>0</td>\n    </tr>\n    <tr>\n      <th>3</th>\n      <td>1016277</td>\n      <td>6</td>\n      <td>8</td>\n      <td>8</td>\n      <td>1</td>\n      <td>3</td>\n      <td>4</td>\n      <td>3</td>\n      <td>7</td>\n      <td>1</td>\n      <td>0</td>\n    </tr>\n    <tr>\n      <th>4</th>\n      <td>1017023</td>\n      <td>4</td>\n      <td>1</td>\n      <td>1</td>\n      <td>3</td>\n      <td>2</td>\n      <td>1</td>\n      <td>3</td>\n      <td>1</td>\n      <td>1</td>\n      <td>0</td>\n    </tr>\n  </tbody>\n</table>\n</div>"
     },
     "execution_count": 5,
     "metadata": {},
     "output_type": "execute_result"
    }
   ],
   "source": [
    "import pandas as pd\n",
    "data = pd.read_csv('./../../data/bigboongi/breast-cancer-wisconsin.csv', encoding='utf-8')\n",
    "data.head()"
   ]
  },
  {
   "cell_type": "code",
   "execution_count": 6,
   "outputs": [
    {
     "data": {
      "text/plain": "0    444\n1    239\nName: Class, dtype: int64"
     },
     "execution_count": 6,
     "metadata": {},
     "output_type": "execute_result"
    }
   ],
   "source": [
    "data['Class'].value_counts(sort=False)"
   ],
   "metadata": {
    "collapsed": false,
    "pycharm": {
     "name": "#%%\n"
    }
   }
  },
  {
   "cell_type": "code",
   "execution_count": 7,
   "outputs": [
    {
     "data": {
      "text/plain": "(683, 11)"
     },
     "execution_count": 7,
     "metadata": {},
     "output_type": "execute_result"
    }
   ],
   "source": [
    "data.shape"
   ],
   "metadata": {
    "collapsed": false,
    "pycharm": {
     "name": "#%%\n"
    }
   }
  },
  {
   "cell_type": "markdown",
   "source": [
    "### 특성(x)와 레이블(y)로 나누기"
   ],
   "metadata": {
    "collapsed": false
   }
  },
  {
   "cell_type": "markdown",
   "source": [
    "* 방법1 - 특성이름으로 특성 데이터셋(X) 나누기"
   ],
   "metadata": {
    "collapsed": false
   }
  },
  {
   "cell_type": "code",
   "execution_count": 8,
   "outputs": [],
   "source": [
    "X1 = data[['Clump_Thickness', 'Cell_Size', 'Cell_Shape', 'Marginal_Adhesion', 'Single_Epithelial_Cell_Size', 'Bare_Nuclei', 'Bland_Chromatin',\n",
    "           'Normal_Nucleoli', 'Mitoses']]"
   ],
   "metadata": {
    "collapsed": false,
    "pycharm": {
     "name": "#%%\n"
    }
   }
  },
  {
   "cell_type": "markdown",
   "source": [
    "* 방법2 - 특성 위치값으로 특성 데이터셋(X) 나누기"
   ],
   "metadata": {
    "collapsed": false
   }
  },
  {
   "cell_type": "code",
   "execution_count": 9,
   "outputs": [],
   "source": [
    "X2 = data[data.columns[1:10]]"
   ],
   "metadata": {
    "collapsed": false,
    "pycharm": {
     "name": "#%%\n"
    }
   }
  },
  {
   "cell_type": "markdown",
   "source": [
    "* 방법3 - loc 함수로 특성 데이터셋(X) 나누기 (단, 불러올 특성이 연달아 있어야 함)"
   ],
   "metadata": {
    "collapsed": false
   }
  },
  {
   "cell_type": "code",
   "execution_count": 10,
   "outputs": [],
   "source": [
    "X3 = data.loc[:, 'Clump_Thickness':'Mitoses']"
   ],
   "metadata": {
    "collapsed": false,
    "pycharm": {
     "name": "#%%\n"
    }
   }
  },
  {
   "cell_type": "code",
   "execution_count": 11,
   "outputs": [
    {
     "name": "stdout",
     "output_type": "stream",
     "text": [
      "(683, 9)\n",
      "(683, 9)\n",
      "(683, 9)\n"
     ]
    }
   ],
   "source": [
    "print(X1.shape)\n",
    "print(X2.shape)\n",
    "print(X3.shape)"
   ],
   "metadata": {
    "collapsed": false,
    "pycharm": {
     "name": "#%%\n"
    }
   }
  },
  {
   "cell_type": "code",
   "execution_count": 12,
   "outputs": [],
   "source": [
    "y = data[['Class']]"
   ],
   "metadata": {
    "collapsed": false,
    "pycharm": {
     "name": "#%%\n"
    }
   }
  },
  {
   "cell_type": "code",
   "execution_count": 13,
   "outputs": [
    {
     "data": {
      "text/plain": "(683, 1)"
     },
     "execution_count": 13,
     "metadata": {},
     "output_type": "execute_result"
    }
   ],
   "source": [
    "y.shape"
   ],
   "metadata": {
    "collapsed": false,
    "pycharm": {
     "name": "#%%\n"
    }
   }
  },
  {
   "cell_type": "markdown",
   "source": [
    "### train-test 데이터셋 나누기"
   ],
   "metadata": {
    "collapsed": false
   }
  },
  {
   "cell_type": "markdown",
   "source": [
    "* random_state - 분석할 때마다 다른 결과가 나오는 것을 막기 위해\n",
    "* stratify=y - 훈련데이터와 테스트데이터 구분 시, 레이블의 범주 비율에 맞게 할 것"
   ],
   "metadata": {
    "collapsed": false
   }
  },
  {
   "cell_type": "code",
   "execution_count": 14,
   "outputs": [],
   "source": [
    "from sklearn.model_selection import train_test_split\n",
    "X_train, X_test, y_train, y_test = train_test_split(X1, y, stratify=y, random_state=42)"
   ],
   "metadata": {
    "collapsed": false,
    "pycharm": {
     "name": "#%%\n"
    }
   }
  },
  {
   "cell_type": "code",
   "execution_count": 15,
   "outputs": [
    {
     "name": "stdout",
     "output_type": "stream",
     "text": [
      "Class    0.349609\n",
      "dtype: float64\n",
      "Class    0.350877\n",
      "dtype: float64\n"
     ]
    }
   ],
   "source": [
    "print(y_train.mean())\n",
    "print(y_test.mean())"
   ],
   "metadata": {
    "collapsed": false,
    "pycharm": {
     "name": "#%%\n"
    }
   }
  },
  {
   "cell_type": "markdown",
   "source": [
    "### 정규화"
   ],
   "metadata": {
    "collapsed": false
   }
  },
  {
   "cell_type": "code",
   "execution_count": 16,
   "outputs": [],
   "source": [
    "from sklearn.preprocessing import MinMaxScaler\n",
    "from sklearn.preprocessing import StandardScaler\n",
    "scaler_minmax = MinMaxScaler()\n",
    "scaler_standard = StandardScaler()"
   ],
   "metadata": {
    "collapsed": false,
    "pycharm": {
     "name": "#%%\n"
    }
   }
  },
  {
   "cell_type": "code",
   "execution_count": 18,
   "outputs": [],
   "source": [
    "scaler_minmax.fit(X_train)\n",
    "X_scaled_minmax_train = scaler_minmax.transform(X_train)"
   ],
   "metadata": {
    "collapsed": false,
    "pycharm": {
     "name": "#%%\n"
    }
   }
  },
  {
   "cell_type": "code",
   "execution_count": 19,
   "outputs": [],
   "source": [
    "scaler_standard.fit(X_train)\n",
    "X_scaled_standard_train = scaler_standard.transform(X_train)"
   ],
   "metadata": {
    "collapsed": false,
    "pycharm": {
     "name": "#%%\n"
    }
   }
  },
  {
   "cell_type": "code",
   "execution_count": 20,
   "outputs": [
    {
     "data": {
      "text/plain": "                0           1           2           3           4           5  \\\ncount  512.000000  512.000000  512.000000  512.000000  512.000000  512.000000   \nmean     0.372830    0.231988    0.242839    0.205078    0.241319    0.285590   \nstd      0.317836    0.334781    0.332112    0.319561    0.242541    0.404890   \nmin      0.000000    0.000000    0.000000    0.000000    0.000000    0.000000   \n25%      0.111111    0.000000    0.000000    0.000000    0.111111    0.000000   \n50%      0.333333    0.000000    0.000000    0.000000    0.111111    0.000000   \n75%      0.555556    0.361111    0.444444    0.333333    0.333333    0.583333   \nmax      1.000000    1.000000    1.000000    1.000000    1.000000    1.000000   \n\n                6           7           8  \ncount  512.000000  512.000000  512.000000  \nmean     0.269314    0.199002    0.067491  \nstd      0.265289    0.331503    0.190373  \nmin      0.000000    0.000000    0.000000  \n25%      0.111111    0.000000    0.000000  \n50%      0.222222    0.000000    0.000000  \n75%      0.444444    0.222222    0.000000  \nmax      1.000000    1.000000    1.000000  ",
      "text/html": "<div>\n<style scoped>\n    .dataframe tbody tr th:only-of-type {\n        vertical-align: middle;\n    }\n\n    .dataframe tbody tr th {\n        vertical-align: top;\n    }\n\n    .dataframe thead th {\n        text-align: right;\n    }\n</style>\n<table border=\"1\" class=\"dataframe\">\n  <thead>\n    <tr style=\"text-align: right;\">\n      <th></th>\n      <th>0</th>\n      <th>1</th>\n      <th>2</th>\n      <th>3</th>\n      <th>4</th>\n      <th>5</th>\n      <th>6</th>\n      <th>7</th>\n      <th>8</th>\n    </tr>\n  </thead>\n  <tbody>\n    <tr>\n      <th>count</th>\n      <td>512.000000</td>\n      <td>512.000000</td>\n      <td>512.000000</td>\n      <td>512.000000</td>\n      <td>512.000000</td>\n      <td>512.000000</td>\n      <td>512.000000</td>\n      <td>512.000000</td>\n      <td>512.000000</td>\n    </tr>\n    <tr>\n      <th>mean</th>\n      <td>0.372830</td>\n      <td>0.231988</td>\n      <td>0.242839</td>\n      <td>0.205078</td>\n      <td>0.241319</td>\n      <td>0.285590</td>\n      <td>0.269314</td>\n      <td>0.199002</td>\n      <td>0.067491</td>\n    </tr>\n    <tr>\n      <th>std</th>\n      <td>0.317836</td>\n      <td>0.334781</td>\n      <td>0.332112</td>\n      <td>0.319561</td>\n      <td>0.242541</td>\n      <td>0.404890</td>\n      <td>0.265289</td>\n      <td>0.331503</td>\n      <td>0.190373</td>\n    </tr>\n    <tr>\n      <th>min</th>\n      <td>0.000000</td>\n      <td>0.000000</td>\n      <td>0.000000</td>\n      <td>0.000000</td>\n      <td>0.000000</td>\n      <td>0.000000</td>\n      <td>0.000000</td>\n      <td>0.000000</td>\n      <td>0.000000</td>\n    </tr>\n    <tr>\n      <th>25%</th>\n      <td>0.111111</td>\n      <td>0.000000</td>\n      <td>0.000000</td>\n      <td>0.000000</td>\n      <td>0.111111</td>\n      <td>0.000000</td>\n      <td>0.111111</td>\n      <td>0.000000</td>\n      <td>0.000000</td>\n    </tr>\n    <tr>\n      <th>50%</th>\n      <td>0.333333</td>\n      <td>0.000000</td>\n      <td>0.000000</td>\n      <td>0.000000</td>\n      <td>0.111111</td>\n      <td>0.000000</td>\n      <td>0.222222</td>\n      <td>0.000000</td>\n      <td>0.000000</td>\n    </tr>\n    <tr>\n      <th>75%</th>\n      <td>0.555556</td>\n      <td>0.361111</td>\n      <td>0.444444</td>\n      <td>0.333333</td>\n      <td>0.333333</td>\n      <td>0.583333</td>\n      <td>0.444444</td>\n      <td>0.222222</td>\n      <td>0.000000</td>\n    </tr>\n    <tr>\n      <th>max</th>\n      <td>1.000000</td>\n      <td>1.000000</td>\n      <td>1.000000</td>\n      <td>1.000000</td>\n      <td>1.000000</td>\n      <td>1.000000</td>\n      <td>1.000000</td>\n      <td>1.000000</td>\n      <td>1.000000</td>\n    </tr>\n  </tbody>\n</table>\n</div>"
     },
     "execution_count": 20,
     "metadata": {},
     "output_type": "execute_result"
    }
   ],
   "source": [
    "pd.DataFrame(X_scaled_minmax_train).describe()"
   ],
   "metadata": {
    "collapsed": false,
    "pycharm": {
     "name": "#%%\n"
    }
   }
  },
  {
   "cell_type": "code",
   "execution_count": 21,
   "outputs": [
    {
     "data": {
      "text/plain": "                  0             1             2             3             4  \\\ncount  5.120000e+02  5.120000e+02  5.120000e+02  5.120000e+02  5.120000e+02   \nmean   6.938894e-18  6.938894e-18 -2.775558e-17 -2.775558e-17 -4.857226e-17   \nstd    1.000978e+00  1.000978e+00  1.000978e+00  1.000978e+00  1.000978e+00   \nmin   -1.174173e+00 -6.936309e-01 -7.319088e-01 -6.423777e-01 -9.959361e-01   \n25%   -8.242452e-01 -6.936309e-01 -7.319088e-01 -6.423777e-01 -5.373756e-01   \n50%   -1.243886e-01 -6.936309e-01 -7.319088e-01 -6.423777e-01 -5.373756e-01   \n75%    5.754680e-01  3.860715e-01  6.076347e-01  4.017410e-01  3.797454e-01   \nmax    1.975181e+00  2.296314e+00  2.282064e+00  2.489978e+00  3.131108e+00   \n\n                  5             6             7             8  \ncount  5.120000e+02  5.120000e+02  5.120000e+02  5.120000e+02  \nmean   6.938894e-18 -2.081668e-17 -2.775558e-17 -1.734723e-18  \nstd    1.000978e+00  1.000978e+00  1.000978e+00  1.000978e+00  \nmin   -7.060427e-01 -1.016165e+00 -6.008881e-01 -3.548677e-01  \n25%   -7.060427e-01 -5.969255e-01 -6.008881e-01 -3.548677e-01  \n50%   -7.060427e-01 -1.776856e-01 -6.008881e-01 -3.548677e-01  \n75%    7.360871e-01  6.607941e-01  7.011454e-02 -3.548677e-01  \nmax    1.766180e+00  2.756993e+00  2.418624e+00  4.903108e+00  ",
      "text/html": "<div>\n<style scoped>\n    .dataframe tbody tr th:only-of-type {\n        vertical-align: middle;\n    }\n\n    .dataframe tbody tr th {\n        vertical-align: top;\n    }\n\n    .dataframe thead th {\n        text-align: right;\n    }\n</style>\n<table border=\"1\" class=\"dataframe\">\n  <thead>\n    <tr style=\"text-align: right;\">\n      <th></th>\n      <th>0</th>\n      <th>1</th>\n      <th>2</th>\n      <th>3</th>\n      <th>4</th>\n      <th>5</th>\n      <th>6</th>\n      <th>7</th>\n      <th>8</th>\n    </tr>\n  </thead>\n  <tbody>\n    <tr>\n      <th>count</th>\n      <td>5.120000e+02</td>\n      <td>5.120000e+02</td>\n      <td>5.120000e+02</td>\n      <td>5.120000e+02</td>\n      <td>5.120000e+02</td>\n      <td>5.120000e+02</td>\n      <td>5.120000e+02</td>\n      <td>5.120000e+02</td>\n      <td>5.120000e+02</td>\n    </tr>\n    <tr>\n      <th>mean</th>\n      <td>6.938894e-18</td>\n      <td>6.938894e-18</td>\n      <td>-2.775558e-17</td>\n      <td>-2.775558e-17</td>\n      <td>-4.857226e-17</td>\n      <td>6.938894e-18</td>\n      <td>-2.081668e-17</td>\n      <td>-2.775558e-17</td>\n      <td>-1.734723e-18</td>\n    </tr>\n    <tr>\n      <th>std</th>\n      <td>1.000978e+00</td>\n      <td>1.000978e+00</td>\n      <td>1.000978e+00</td>\n      <td>1.000978e+00</td>\n      <td>1.000978e+00</td>\n      <td>1.000978e+00</td>\n      <td>1.000978e+00</td>\n      <td>1.000978e+00</td>\n      <td>1.000978e+00</td>\n    </tr>\n    <tr>\n      <th>min</th>\n      <td>-1.174173e+00</td>\n      <td>-6.936309e-01</td>\n      <td>-7.319088e-01</td>\n      <td>-6.423777e-01</td>\n      <td>-9.959361e-01</td>\n      <td>-7.060427e-01</td>\n      <td>-1.016165e+00</td>\n      <td>-6.008881e-01</td>\n      <td>-3.548677e-01</td>\n    </tr>\n    <tr>\n      <th>25%</th>\n      <td>-8.242452e-01</td>\n      <td>-6.936309e-01</td>\n      <td>-7.319088e-01</td>\n      <td>-6.423777e-01</td>\n      <td>-5.373756e-01</td>\n      <td>-7.060427e-01</td>\n      <td>-5.969255e-01</td>\n      <td>-6.008881e-01</td>\n      <td>-3.548677e-01</td>\n    </tr>\n    <tr>\n      <th>50%</th>\n      <td>-1.243886e-01</td>\n      <td>-6.936309e-01</td>\n      <td>-7.319088e-01</td>\n      <td>-6.423777e-01</td>\n      <td>-5.373756e-01</td>\n      <td>-7.060427e-01</td>\n      <td>-1.776856e-01</td>\n      <td>-6.008881e-01</td>\n      <td>-3.548677e-01</td>\n    </tr>\n    <tr>\n      <th>75%</th>\n      <td>5.754680e-01</td>\n      <td>3.860715e-01</td>\n      <td>6.076347e-01</td>\n      <td>4.017410e-01</td>\n      <td>3.797454e-01</td>\n      <td>7.360871e-01</td>\n      <td>6.607941e-01</td>\n      <td>7.011454e-02</td>\n      <td>-3.548677e-01</td>\n    </tr>\n    <tr>\n      <th>max</th>\n      <td>1.975181e+00</td>\n      <td>2.296314e+00</td>\n      <td>2.282064e+00</td>\n      <td>2.489978e+00</td>\n      <td>3.131108e+00</td>\n      <td>1.766180e+00</td>\n      <td>2.756993e+00</td>\n      <td>2.418624e+00</td>\n      <td>4.903108e+00</td>\n    </tr>\n  </tbody>\n</table>\n</div>"
     },
     "execution_count": 21,
     "metadata": {},
     "output_type": "execute_result"
    }
   ],
   "source": [
    "pd.DataFrame(X_scaled_standard_train).describe()"
   ],
   "metadata": {
    "collapsed": false,
    "pycharm": {
     "name": "#%%\n"
    }
   }
  },
  {
   "cell_type": "code",
   "execution_count": 22,
   "outputs": [
    {
     "data": {
      "text/plain": "                0           1           2           3           4           5  \\\ncount  171.000000  171.000000  171.000000  171.000000  171.000000  171.000000   \nmean     0.411306    0.259909    0.256010    0.198181    0.269006    0.274204   \nstd      0.298847    0.357544    0.332700    0.315307    0.259557    0.405891   \nmin      0.000000    0.000000    0.000000    0.000000    0.000000    0.000000   \n25%      0.222222    0.000000    0.000000    0.000000    0.111111    0.000000   \n50%      0.444444    0.000000    0.111111    0.000000    0.111111    0.000000   \n75%      0.555556    0.444444    0.444444    0.222222    0.388889    0.444444   \nmax      1.000000    1.000000    1.000000    1.000000    1.000000    1.000000   \n\n                6           7           8  \ncount  171.000000  171.000000  171.000000  \nmean     0.278752    0.233918    0.065627  \nstd      0.292578    0.360958    0.199372  \nmin      0.000000    0.000000    0.000000  \n25%      0.000000    0.000000    0.000000  \n50%      0.222222    0.000000    0.000000  \n75%      0.444444    0.388889    0.000000  \nmax      1.000000    1.000000    1.000000  ",
      "text/html": "<div>\n<style scoped>\n    .dataframe tbody tr th:only-of-type {\n        vertical-align: middle;\n    }\n\n    .dataframe tbody tr th {\n        vertical-align: top;\n    }\n\n    .dataframe thead th {\n        text-align: right;\n    }\n</style>\n<table border=\"1\" class=\"dataframe\">\n  <thead>\n    <tr style=\"text-align: right;\">\n      <th></th>\n      <th>0</th>\n      <th>1</th>\n      <th>2</th>\n      <th>3</th>\n      <th>4</th>\n      <th>5</th>\n      <th>6</th>\n      <th>7</th>\n      <th>8</th>\n    </tr>\n  </thead>\n  <tbody>\n    <tr>\n      <th>count</th>\n      <td>171.000000</td>\n      <td>171.000000</td>\n      <td>171.000000</td>\n      <td>171.000000</td>\n      <td>171.000000</td>\n      <td>171.000000</td>\n      <td>171.000000</td>\n      <td>171.000000</td>\n      <td>171.000000</td>\n    </tr>\n    <tr>\n      <th>mean</th>\n      <td>0.411306</td>\n      <td>0.259909</td>\n      <td>0.256010</td>\n      <td>0.198181</td>\n      <td>0.269006</td>\n      <td>0.274204</td>\n      <td>0.278752</td>\n      <td>0.233918</td>\n      <td>0.065627</td>\n    </tr>\n    <tr>\n      <th>std</th>\n      <td>0.298847</td>\n      <td>0.357544</td>\n      <td>0.332700</td>\n      <td>0.315307</td>\n      <td>0.259557</td>\n      <td>0.405891</td>\n      <td>0.292578</td>\n      <td>0.360958</td>\n      <td>0.199372</td>\n    </tr>\n    <tr>\n      <th>min</th>\n      <td>0.000000</td>\n      <td>0.000000</td>\n      <td>0.000000</td>\n      <td>0.000000</td>\n      <td>0.000000</td>\n      <td>0.000000</td>\n      <td>0.000000</td>\n      <td>0.000000</td>\n      <td>0.000000</td>\n    </tr>\n    <tr>\n      <th>25%</th>\n      <td>0.222222</td>\n      <td>0.000000</td>\n      <td>0.000000</td>\n      <td>0.000000</td>\n      <td>0.111111</td>\n      <td>0.000000</td>\n      <td>0.000000</td>\n      <td>0.000000</td>\n      <td>0.000000</td>\n    </tr>\n    <tr>\n      <th>50%</th>\n      <td>0.444444</td>\n      <td>0.000000</td>\n      <td>0.111111</td>\n      <td>0.000000</td>\n      <td>0.111111</td>\n      <td>0.000000</td>\n      <td>0.222222</td>\n      <td>0.000000</td>\n      <td>0.000000</td>\n    </tr>\n    <tr>\n      <th>75%</th>\n      <td>0.555556</td>\n      <td>0.444444</td>\n      <td>0.444444</td>\n      <td>0.222222</td>\n      <td>0.388889</td>\n      <td>0.444444</td>\n      <td>0.444444</td>\n      <td>0.388889</td>\n      <td>0.000000</td>\n    </tr>\n    <tr>\n      <th>max</th>\n      <td>1.000000</td>\n      <td>1.000000</td>\n      <td>1.000000</td>\n      <td>1.000000</td>\n      <td>1.000000</td>\n      <td>1.000000</td>\n      <td>1.000000</td>\n      <td>1.000000</td>\n      <td>1.000000</td>\n    </tr>\n  </tbody>\n</table>\n</div>"
     },
     "execution_count": 22,
     "metadata": {},
     "output_type": "execute_result"
    }
   ],
   "source": [
    "X_scaled_minmax_test = scaler_minmax.transform(X_test)\n",
    "pd.DataFrame(X_scaled_minmax_test).describe()"
   ],
   "metadata": {
    "collapsed": false,
    "pycharm": {
     "name": "#%%\n"
    }
   }
  },
  {
   "cell_type": "code",
   "execution_count": 23,
   "outputs": [
    {
     "data": {
      "text/plain": "                  0             1             2             3             4  \\\ncount  5.120000e+02  5.120000e+02  5.120000e+02  5.120000e+02  5.120000e+02   \nmean   6.938894e-18  6.938894e-18 -2.775558e-17 -2.775558e-17 -4.857226e-17   \nstd    1.000978e+00  1.000978e+00  1.000978e+00  1.000978e+00  1.000978e+00   \nmin   -1.174173e+00 -6.936309e-01 -7.319088e-01 -6.423777e-01 -9.959361e-01   \n25%   -8.242452e-01 -6.936309e-01 -7.319088e-01 -6.423777e-01 -5.373756e-01   \n50%   -1.243886e-01 -6.936309e-01 -7.319088e-01 -6.423777e-01 -5.373756e-01   \n75%    5.754680e-01  3.860715e-01  6.076347e-01  4.017410e-01  3.797454e-01   \nmax    1.975181e+00  2.296314e+00  2.282064e+00  2.489978e+00  3.131108e+00   \n\n                  5             6             7             8  \ncount  5.120000e+02  5.120000e+02  5.120000e+02  5.120000e+02  \nmean   6.938894e-18 -2.081668e-17 -2.775558e-17 -1.734723e-18  \nstd    1.000978e+00  1.000978e+00  1.000978e+00  1.000978e+00  \nmin   -7.060427e-01 -1.016165e+00 -6.008881e-01 -3.548677e-01  \n25%   -7.060427e-01 -5.969255e-01 -6.008881e-01 -3.548677e-01  \n50%   -7.060427e-01 -1.776856e-01 -6.008881e-01 -3.548677e-01  \n75%    7.360871e-01  6.607941e-01  7.011454e-02 -3.548677e-01  \nmax    1.766180e+00  2.756993e+00  2.418624e+00  4.903108e+00  ",
      "text/html": "<div>\n<style scoped>\n    .dataframe tbody tr th:only-of-type {\n        vertical-align: middle;\n    }\n\n    .dataframe tbody tr th {\n        vertical-align: top;\n    }\n\n    .dataframe thead th {\n        text-align: right;\n    }\n</style>\n<table border=\"1\" class=\"dataframe\">\n  <thead>\n    <tr style=\"text-align: right;\">\n      <th></th>\n      <th>0</th>\n      <th>1</th>\n      <th>2</th>\n      <th>3</th>\n      <th>4</th>\n      <th>5</th>\n      <th>6</th>\n      <th>7</th>\n      <th>8</th>\n    </tr>\n  </thead>\n  <tbody>\n    <tr>\n      <th>count</th>\n      <td>5.120000e+02</td>\n      <td>5.120000e+02</td>\n      <td>5.120000e+02</td>\n      <td>5.120000e+02</td>\n      <td>5.120000e+02</td>\n      <td>5.120000e+02</td>\n      <td>5.120000e+02</td>\n      <td>5.120000e+02</td>\n      <td>5.120000e+02</td>\n    </tr>\n    <tr>\n      <th>mean</th>\n      <td>6.938894e-18</td>\n      <td>6.938894e-18</td>\n      <td>-2.775558e-17</td>\n      <td>-2.775558e-17</td>\n      <td>-4.857226e-17</td>\n      <td>6.938894e-18</td>\n      <td>-2.081668e-17</td>\n      <td>-2.775558e-17</td>\n      <td>-1.734723e-18</td>\n    </tr>\n    <tr>\n      <th>std</th>\n      <td>1.000978e+00</td>\n      <td>1.000978e+00</td>\n      <td>1.000978e+00</td>\n      <td>1.000978e+00</td>\n      <td>1.000978e+00</td>\n      <td>1.000978e+00</td>\n      <td>1.000978e+00</td>\n      <td>1.000978e+00</td>\n      <td>1.000978e+00</td>\n    </tr>\n    <tr>\n      <th>min</th>\n      <td>-1.174173e+00</td>\n      <td>-6.936309e-01</td>\n      <td>-7.319088e-01</td>\n      <td>-6.423777e-01</td>\n      <td>-9.959361e-01</td>\n      <td>-7.060427e-01</td>\n      <td>-1.016165e+00</td>\n      <td>-6.008881e-01</td>\n      <td>-3.548677e-01</td>\n    </tr>\n    <tr>\n      <th>25%</th>\n      <td>-8.242452e-01</td>\n      <td>-6.936309e-01</td>\n      <td>-7.319088e-01</td>\n      <td>-6.423777e-01</td>\n      <td>-5.373756e-01</td>\n      <td>-7.060427e-01</td>\n      <td>-5.969255e-01</td>\n      <td>-6.008881e-01</td>\n      <td>-3.548677e-01</td>\n    </tr>\n    <tr>\n      <th>50%</th>\n      <td>-1.243886e-01</td>\n      <td>-6.936309e-01</td>\n      <td>-7.319088e-01</td>\n      <td>-6.423777e-01</td>\n      <td>-5.373756e-01</td>\n      <td>-7.060427e-01</td>\n      <td>-1.776856e-01</td>\n      <td>-6.008881e-01</td>\n      <td>-3.548677e-01</td>\n    </tr>\n    <tr>\n      <th>75%</th>\n      <td>5.754680e-01</td>\n      <td>3.860715e-01</td>\n      <td>6.076347e-01</td>\n      <td>4.017410e-01</td>\n      <td>3.797454e-01</td>\n      <td>7.360871e-01</td>\n      <td>6.607941e-01</td>\n      <td>7.011454e-02</td>\n      <td>-3.548677e-01</td>\n    </tr>\n    <tr>\n      <th>max</th>\n      <td>1.975181e+00</td>\n      <td>2.296314e+00</td>\n      <td>2.282064e+00</td>\n      <td>2.489978e+00</td>\n      <td>3.131108e+00</td>\n      <td>1.766180e+00</td>\n      <td>2.756993e+00</td>\n      <td>2.418624e+00</td>\n      <td>4.903108e+00</td>\n    </tr>\n  </tbody>\n</table>\n</div>"
     },
     "execution_count": 23,
     "metadata": {},
     "output_type": "execute_result"
    }
   ],
   "source": [
    "X_scaled_standard_test = scaler_standard.transform(X_train)\n",
    "pd.DataFrame(X_scaled_standard_test).describe()"
   ],
   "metadata": {
    "collapsed": false,
    "pycharm": {
     "name": "#%%\n"
    }
   }
  },
  {
   "cell_type": "markdown",
   "source": [
    "### 모델 학습"
   ],
   "metadata": {
    "collapsed": false
   }
  },
  {
   "cell_type": "code",
   "execution_count": 24,
   "outputs": [
    {
     "name": "stderr",
     "output_type": "stream",
     "text": [
      "/opt/homebrew/Caskroom/miniforge/base/envs/pandas_info/lib/python3.10/site-packages/sklearn/utils/validation.py:985: DataConversionWarning: A column-vector y was passed when a 1d array was expected. Please change the shape of y to (n_samples, ), for example using ravel().\n",
      "  y = column_or_1d(y, warn=True)\n"
     ]
    },
    {
     "data": {
      "text/plain": "LogisticRegression()"
     },
     "execution_count": 24,
     "metadata": {},
     "output_type": "execute_result"
    }
   ],
   "source": [
    "from sklearn.linear_model import LogisticRegression\n",
    "model = LogisticRegression()\n",
    "model.fit(X_scaled_minmax_train, y_train)"
   ],
   "metadata": {
    "collapsed": false,
    "pycharm": {
     "name": "#%%\n"
    }
   }
  },
  {
   "cell_type": "code",
   "execution_count": 25,
   "outputs": [
    {
     "data": {
      "text/plain": "0.97265625"
     },
     "execution_count": 25,
     "metadata": {},
     "output_type": "execute_result"
    }
   ],
   "source": [
    "pred_train = model.predict(X_scaled_minmax_train)\n",
    "model.score(X_scaled_minmax_train, y_train)"
   ],
   "metadata": {
    "collapsed": false,
    "pycharm": {
     "name": "#%%\n"
    }
   }
  },
  {
   "cell_type": "code",
   "execution_count": 26,
   "outputs": [
    {
     "data": {
      "text/plain": "0.9590643274853801"
     },
     "execution_count": 26,
     "metadata": {},
     "output_type": "execute_result"
    }
   ],
   "source": [
    "pred_test = model.predict(X_scaled_minmax_test)\n",
    "model.score(X_scaled_minmax_test, y_test)"
   ],
   "metadata": {
    "collapsed": false,
    "pycharm": {
     "name": "#%%\n"
    }
   }
  },
  {
   "cell_type": "code",
   "execution_count": 27,
   "outputs": [
    {
     "name": "stdout",
     "output_type": "stream",
     "text": [
      "훈련데이터 오차행렬: \n",
      " [[328   5]\n",
      " [  9 170]]\n"
     ]
    }
   ],
   "source": [
    "from sklearn.metrics import confusion_matrix\n",
    "confusion_train = confusion_matrix(y_train, pred_train)\n",
    "print('훈련데이터 오차행렬: \\n', confusion_train)"
   ],
   "metadata": {
    "collapsed": false,
    "pycharm": {
     "name": "#%%\n"
    }
   }
  },
  {
   "cell_type": "code",
   "execution_count": 29,
   "outputs": [
    {
     "name": "stdout",
     "output_type": "stream",
     "text": [
      "테스트데이터 오차행렬: \n",
      " [[106   5]\n",
      " [  2  58]]\n"
     ]
    }
   ],
   "source": [
    "confusion_test = confusion_matrix(y_test, pred_test)\n",
    "print('테스트데이터 오차행렬: \\n', confusion_test)"
   ],
   "metadata": {
    "collapsed": false,
    "pycharm": {
     "name": "#%%\n"
    }
   }
  },
  {
   "cell_type": "code",
   "execution_count": 30,
   "outputs": [
    {
     "name": "stdout",
     "output_type": "stream",
     "text": [
      "분류예측 리포트: \n",
      "               precision    recall  f1-score   support\n",
      "\n",
      "           0       0.97      0.98      0.98       333\n",
      "           1       0.97      0.95      0.96       179\n",
      "\n",
      "    accuracy                           0.97       512\n",
      "   macro avg       0.97      0.97      0.97       512\n",
      "weighted avg       0.97      0.97      0.97       512\n",
      "\n"
     ]
    }
   ],
   "source": [
    "from sklearn.metrics import classification_report\n",
    "cf_train = classification_report(y_train, pred_train)\n",
    "print('분류예측 리포트: \\n', cf_train)"
   ],
   "metadata": {
    "collapsed": false,
    "pycharm": {
     "name": "#%%\n"
    }
   }
  },
  {
   "cell_type": "code",
   "execution_count": 31,
   "outputs": [
    {
     "name": "stdout",
     "output_type": "stream",
     "text": [
      "분류예측 레포트: \n",
      "               precision    recall  f1-score   support\n",
      "\n",
      "           0       0.98      0.95      0.97       111\n",
      "           1       0.92      0.97      0.94        60\n",
      "\n",
      "    accuracy                           0.96       171\n",
      "   macro avg       0.95      0.96      0.96       171\n",
      "weighted avg       0.96      0.96      0.96       171\n",
      "\n"
     ]
    }
   ],
   "source": [
    "from sklearn.metrics import classification_report\n",
    "cf_test = classification_report(y_test, pred_test)\n",
    "print('분류예측 레포트: \\n', cf_test)"
   ],
   "metadata": {
    "collapsed": false,
    "pycharm": {
     "name": "#%%\n"
    }
   }
  },
  {
   "cell_type": "code",
   "execution_count": 32,
   "outputs": [
    {
     "data": {
      "text/plain": "0.9923423423423423"
     },
     "execution_count": 32,
     "metadata": {},
     "output_type": "execute_result"
    }
   ],
   "source": [
    "from sklearn.metrics import roc_curve, auc\n",
    "from sklearn import metrics\n",
    "\n",
    "fp_rate, tp_rate, thresholds = roc_curve(y_test, model.decision_function(X_scaled_minmax_test))\n",
    "roc_auc = metrics.roc_auc_score(y_test, model.decision_function(X_scaled_minmax_test))\n",
    "roc_auc"
   ],
   "metadata": {
    "collapsed": false,
    "pycharm": {
     "name": "#%%\n"
    }
   }
  },
  {
   "cell_type": "code",
   "execution_count": 33,
   "outputs": [
    {
     "data": {
      "text/plain": "<Figure size 432x288 with 1 Axes>",
      "image/png": "[encoded data removed]"
     },
     "metadata": {
      "needs_background": "light"
     },
     "output_type": "display_data"
    }
   ],
   "source": [
    "import matplotlib.pyplot as plt\n",
    "plt.title('Receiver Operating Characteristic')\n",
    "plt.xlabel('False Positive Rate(1 - Specificity)')\n",
    "plt.ylabel('True Positive Rate(Sensitivity)')\n",
    "\n",
    "plt.plot(fp_rate, tp_rate, 'b', label='Model (AUC=%0.2f)' % roc_auc)\n",
    "plt.plot([0, 1], [1, 1], 'y--')\n",
    "plt.plot([0, 1], [0, 1], 'r--')\n",
    "\n",
    "plt.legend(loc='lower right')\n",
    "plt.show()"
   ],
   "metadata": {
    "collapsed": false,
    "pycharm": {
     "name": "#%%\n"
    }
   }
  },
  {
   "cell_type": "code",
   "execution_count": null,
   "outputs": [],
   "source": [],
   "metadata": {
    "collapsed": false,
    "pycharm": {
     "name": "#%%\n"
    }
   }
  }
 ],
 "metadata": {
  "kernelspec": {
   "display_name": "Python 3",
   "language": "python",
   "name": "python3"
  },
  "language_info": {
   "codemirror_mode": {
    "name": "ipython",
    "version": 2
   },
   "file_extension": ".py",
   "mimetype": "text/x-python",
   "name": "python",
   "nbconvert_exporter": "python",
   "pygments_lexer": "ipython2",
   "version": "2.7.6"
  }
 },
 "nbformat": 4,
 "nbformat_minor": 0
}